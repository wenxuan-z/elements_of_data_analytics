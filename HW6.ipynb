{
  "nbformat": 4,
  "nbformat_minor": 0,
  "metadata": {
    "colab": {
      "name": "329e_HW6.ipynb",
      "provenance": []
    },
    "kernelspec": {
      "display_name": "Python 3",
      "language": "python",
      "name": "python3"
    },
    "language_info": {
      "codemirror_mode": {
        "name": "ipython",
        "version": 3
      },
      "file_extension": ".py",
      "mimetype": "text/x-python",
      "name": "python",
      "nbconvert_exporter": "python",
      "pygments_lexer": "ipython3",
      "version": "3.8.8"
    }
  },
  "cells": [
    {
      "cell_type": "markdown",
      "metadata": {
        "id": "5evkb8bFiWYd"
      },
      "source": [
        "## C S 329E HW 6\n",
        "\n",
        "# KNN \n",
        "\n",
        "Group Number: 11\n",
        "\n",
        "Member: Wenxuan Zhou\n",
        "\n",
        "For this week's homework we are going explore one new classification technique:\n",
        "\n",
        "  - k nearest neighbors\n",
        "\n",
        "We are using a different version of the Melbourne housing data set, to predict the housing type as one of three possible categories:\n",
        "\n",
        "  - 'h' house\n",
        "  - 'u' duplex\n",
        "  - 't' townhouse\n",
        "\n",
        "At the end of this homework, I expect you to understand how to build and use a kNN model, and practice your data cleaning and data preparation skills. "
      ]
    },
    {
      "cell_type": "code",
      "metadata": {
        "id": "wrhYTFMkiWYg"
      },
      "source": [
        "# These are the libraries you will use for this assignment\n",
        "import pandas as pd\n",
        "import numpy as np\n",
        "import matplotlib.pyplot as plt\n",
        "import time\n",
        "import calendar\n",
        "%matplotlib inline\n",
        "\n",
        "# Starting off loading a training set\n",
        "df_melb = pd.read_csv('https://gist.githubusercontent.com/yanyanzheng96/81b236aecee57f6cf65e60afd865d2bb/raw/56ddb53aa90c26ab1bdbfd0b8d8229c8d08ce45a/melb_data_train.csv')"
      ],
      "execution_count": 1,
      "outputs": []
    },
    {
      "cell_type": "markdown",
      "metadata": {
        "id": "2rw1B5h1iWYg"
      },
      "source": [
        "## Q1 - Fix a column of data to be numeric\n",
        "If we inspect our dataframe, `df_melb` using the `dtypes` method, we see that the column \"Date\" is an object.  However, we think this column might contain useful information so we want to convert it to [seconds since epoch](https://en.wikipedia.org/wiki/Unix_time). Use only the exiting imported libraries to create a new column \"unixtime\". Be careful, the date strings in the file might have some non-uniform formatting that you have to fix first.  Print out the min and max epoch time to check your work.  Drop the original \"Date\" column. Please use the python [reference for time](https://docs.python.org/3/library/time.html) to help you do the string to Unix time conversion. "
      ]
    },
    {
      "cell_type": "code",
      "metadata": {
        "id": "n4SkJDJziWYh"
      },
      "source": [
        "# normalize date accepts the date string as shown in the df_melb 'Date' column,\n",
        "# and returns a data in a standarized format\n",
        "def standardize_date(d):\n",
        "  date_split = d.split('/')\n",
        "  new_date = ''\n",
        "\n",
        "  if len(date_split[0]) != 2:\n",
        "    new_date = new_date + '0'\n",
        "  new_date = new_date + date_split[0] + '/'\n",
        "\n",
        "  if len(date_split[1]) != 2:\n",
        "    new_date = new_date + '0'\n",
        "  new_date = new_date + date_split[1] + '/'\n",
        "\n",
        "  if len(date_split[2]) != 4:\n",
        "    new_date = new_date + '20'\n",
        "  new_date = new_date + date_split[2]\n",
        "\n",
        "  return new_date"
      ],
      "execution_count": 2,
      "outputs": []
    },
    {
      "cell_type": "code",
      "metadata": {
        "id": "ii_wRxQqiWYh",
        "colab": {
          "base_uri": "https://localhost:8080/"
        },
        "outputId": "17dd9972-1c67-4b8b-b823-476b9554ebc6"
      },
      "source": [
        "df_melb['Date'] = df_melb['Date'].apply( lambda x : standardize_date(x)) \n",
        "df_melb['unixtime'] = pd.to_datetime(df_melb['Date'], format='%d/%m/%Y')\n",
        "df_melb['unixtime'] = df_melb['unixtime'].apply(lambda x: int(x.timestamp()))\n",
        "df_melb = df_melb.drop(columns=\"Date\")\n",
        "\n",
        "print(\"The min unixtime is {:d} and the max unixtime is {:d}\".format(df_melb['unixtime'].min(),df_melb['unixtime'].max()))"
      ],
      "execution_count": 3,
      "outputs": [
        {
          "output_type": "stream",
          "name": "stdout",
          "text": [
            "The min unixtime is 1454544000 and the max unixtime is 1506124800\n"
          ]
        }
      ]
    },
    {
      "cell_type": "markdown",
      "metadata": {
        "id": "eWhusz2HiWYh"
      },
      "source": [
        "## Q2 Use Imputation to fill in missing values\n",
        "kNN doesn't work when the attributes are not valid for all of the attribute columns, so fill in all the missing values in `df_melb` with the mean of that column.  Save the mean of each column in a dictionary, `dict_imputation`, whose key is the attribute column name, so we can apply the same imputation to the test set later. Show your `dict_imputation` dictionary and the head of your `df_melb` dataframe.  The target classfication (aka the class label) is stored in the column `'Type'`, so we are going to define a variable target_col so we can reference the target_col using a variable. (hint: during imputation you skip the target column)"
      ]
    },
    {
      "cell_type": "code",
      "metadata": {
        "id": "psBp7XPZiWYi"
      },
      "source": [
        "target_col = 'Type'"
      ],
      "execution_count": 4,
      "outputs": []
    },
    {
      "cell_type": "code",
      "metadata": {
        "id": "5FE1bG12iWYi"
      },
      "source": [
        "dict_imputation = dict()\n",
        "for col in df_melb.columns:\n",
        "    if col == target_col:\n",
        "      continue\n",
        "    Mean = df_melb[col].mean()\n",
        "    dict_imputation[col] = Mean\n",
        "    df_melb[col] = df_melb[col].fillna(value = Mean)"
      ],
      "execution_count": 5,
      "outputs": []
    },
    {
      "cell_type": "code",
      "metadata": {
        "id": "czFBtL7LiWYi",
        "colab": {
          "base_uri": "https://localhost:8080/"
        },
        "outputId": "11c77dfe-1bb9-40ab-af38-a0f0c6f2839a"
      },
      "source": [
        "dict_imputation"
      ],
      "execution_count": 6,
      "outputs": [
        {
          "output_type": "execute_result",
          "data": {
            "text/plain": [
              "{'Bathroom': 1.44,\n",
              " 'BuildingArea': 121.7832,\n",
              " 'Car': 1.503006012024048,\n",
              " 'Distance': 10.524599999999985,\n",
              " 'Landsize': 638.91,\n",
              " 'Postcode': 3113.122,\n",
              " 'Price': 932558.7,\n",
              " 'Rooms': 2.71,\n",
              " 'YearBuilt': 1970.9417475728155,\n",
              " 'unixtime': 1485178502.4}"
            ]
          },
          "metadata": {},
          "execution_count": 6
        }
      ]
    },
    {
      "cell_type": "code",
      "metadata": {
        "id": "ij2llMatiWYi",
        "colab": {
          "base_uri": "https://localhost:8080/",
          "height": 204
        },
        "outputId": "f464e60c-f00e-46f1-ff75-693b8616acbb"
      },
      "source": [
        "df_melb.head()"
      ],
      "execution_count": 7,
      "outputs": [
        {
          "output_type": "execute_result",
          "data": {
            "text/html": [
              "<div>\n",
              "<style scoped>\n",
              "    .dataframe tbody tr th:only-of-type {\n",
              "        vertical-align: middle;\n",
              "    }\n",
              "\n",
              "    .dataframe tbody tr th {\n",
              "        vertical-align: top;\n",
              "    }\n",
              "\n",
              "    .dataframe thead th {\n",
              "        text-align: right;\n",
              "    }\n",
              "</style>\n",
              "<table border=\"1\" class=\"dataframe\">\n",
              "  <thead>\n",
              "    <tr style=\"text-align: right;\">\n",
              "      <th></th>\n",
              "      <th>Rooms</th>\n",
              "      <th>Type</th>\n",
              "      <th>Price</th>\n",
              "      <th>Distance</th>\n",
              "      <th>Postcode</th>\n",
              "      <th>Bathroom</th>\n",
              "      <th>Car</th>\n",
              "      <th>Landsize</th>\n",
              "      <th>BuildingArea</th>\n",
              "      <th>YearBuilt</th>\n",
              "      <th>unixtime</th>\n",
              "    </tr>\n",
              "  </thead>\n",
              "  <tbody>\n",
              "    <tr>\n",
              "      <th>0</th>\n",
              "      <td>2</td>\n",
              "      <td>h</td>\n",
              "      <td>399000</td>\n",
              "      <td>8.7</td>\n",
              "      <td>3032</td>\n",
              "      <td>1</td>\n",
              "      <td>1.0</td>\n",
              "      <td>904</td>\n",
              "      <td>53.0000</td>\n",
              "      <td>1985.000000</td>\n",
              "      <td>1462579200</td>\n",
              "    </tr>\n",
              "    <tr>\n",
              "      <th>1</th>\n",
              "      <td>3</td>\n",
              "      <td>h</td>\n",
              "      <td>1241000</td>\n",
              "      <td>13.9</td>\n",
              "      <td>3165</td>\n",
              "      <td>1</td>\n",
              "      <td>1.0</td>\n",
              "      <td>643</td>\n",
              "      <td>121.7832</td>\n",
              "      <td>1970.941748</td>\n",
              "      <td>1472342400</td>\n",
              "    </tr>\n",
              "    <tr>\n",
              "      <th>2</th>\n",
              "      <td>2</td>\n",
              "      <td>u</td>\n",
              "      <td>550000</td>\n",
              "      <td>3.0</td>\n",
              "      <td>3067</td>\n",
              "      <td>1</td>\n",
              "      <td>1.0</td>\n",
              "      <td>1521</td>\n",
              "      <td>121.7832</td>\n",
              "      <td>1970.941748</td>\n",
              "      <td>1499472000</td>\n",
              "    </tr>\n",
              "    <tr>\n",
              "      <th>3</th>\n",
              "      <td>3</td>\n",
              "      <td>u</td>\n",
              "      <td>691000</td>\n",
              "      <td>8.4</td>\n",
              "      <td>3072</td>\n",
              "      <td>1</td>\n",
              "      <td>1.0</td>\n",
              "      <td>170</td>\n",
              "      <td>121.7832</td>\n",
              "      <td>1970.941748</td>\n",
              "      <td>1498262400</td>\n",
              "    </tr>\n",
              "    <tr>\n",
              "      <th>4</th>\n",
              "      <td>2</td>\n",
              "      <td>u</td>\n",
              "      <td>657500</td>\n",
              "      <td>4.6</td>\n",
              "      <td>3122</td>\n",
              "      <td>1</td>\n",
              "      <td>1.0</td>\n",
              "      <td>728</td>\n",
              "      <td>73.0000</td>\n",
              "      <td>1965.000000</td>\n",
              "      <td>1479513600</td>\n",
              "    </tr>\n",
              "  </tbody>\n",
              "</table>\n",
              "</div>"
            ],
            "text/plain": [
              "   Rooms Type    Price  ...  BuildingArea    YearBuilt    unixtime\n",
              "0      2    h   399000  ...       53.0000  1985.000000  1462579200\n",
              "1      3    h  1241000  ...      121.7832  1970.941748  1472342400\n",
              "2      2    u   550000  ...      121.7832  1970.941748  1499472000\n",
              "3      3    u   691000  ...      121.7832  1970.941748  1498262400\n",
              "4      2    u   657500  ...       73.0000  1965.000000  1479513600\n",
              "\n",
              "[5 rows x 11 columns]"
            ]
          },
          "metadata": {},
          "execution_count": 7
        }
      ]
    },
    {
      "cell_type": "markdown",
      "metadata": {
        "id": "hOWfFm_kiWYi"
      },
      "source": [
        "## Q3 Normalize all the attributes to be between [0,1]\n",
        "Normalize all the attribute columns in `df_melb` so they have a value between zero and one (inclusive). Save the (min,max) tuple used to normalize to a dictionary, `dict_normalize`, so we can apply it to the test set later.  The dataframe `df_melb` is now your \"model\" that you can use to classify new data points. (hint: during normalization you skip the class label column)"
      ]
    },
    {
      "cell_type": "code",
      "metadata": {
        "id": "Mrn7oGGAiWYj"
      },
      "source": [
        "dict_normalize = dict()\n",
        "for col in df_melb.columns:\n",
        "    if col == target_col:\n",
        "      continue\n",
        "    Max = df_melb[col].max()\n",
        "    Min = df_melb[col].min()\n",
        "    Range = Max - Min\n",
        "    dict_normalize[col] = tuple((Min, Max))\n",
        "    df_melb[col] = df_melb[col].apply(lambda x: (x - Min) / Range)"
      ],
      "execution_count": 8,
      "outputs": []
    },
    {
      "cell_type": "code",
      "metadata": {
        "id": "Y0Sfee1KiWYj",
        "colab": {
          "base_uri": "https://localhost:8080/"
        },
        "outputId": "93a801c2-35d7-4780-e9dd-240a3cd3ca8b"
      },
      "source": [
        "dict_normalize"
      ],
      "execution_count": 9,
      "outputs": [
        {
          "output_type": "execute_result",
          "data": {
            "text/plain": [
              "{'Bathroom': (0, 4),\n",
              " 'BuildingArea': (0.0, 475.0),\n",
              " 'Car': (0.0, 4.0),\n",
              " 'Distance': (0.7, 47.3),\n",
              " 'Landsize': (0, 41400),\n",
              " 'Postcode': (3002, 3810),\n",
              " 'Price': (291000, 5020000),\n",
              " 'Rooms': (1, 6),\n",
              " 'YearBuilt': (1890.0, 2015.0),\n",
              " 'unixtime': (1454544000, 1506124800)}"
            ]
          },
          "metadata": {},
          "execution_count": 9
        }
      ]
    },
    {
      "cell_type": "code",
      "metadata": {
        "id": "pUSJttrbiWYj",
        "colab": {
          "base_uri": "https://localhost:8080/",
          "height": 204
        },
        "outputId": "b0cfee1b-7165-4fb9-bac0-19d575217670"
      },
      "source": [
        "df_melb.head()"
      ],
      "execution_count": 10,
      "outputs": [
        {
          "output_type": "execute_result",
          "data": {
            "text/html": [
              "<div>\n",
              "<style scoped>\n",
              "    .dataframe tbody tr th:only-of-type {\n",
              "        vertical-align: middle;\n",
              "    }\n",
              "\n",
              "    .dataframe tbody tr th {\n",
              "        vertical-align: top;\n",
              "    }\n",
              "\n",
              "    .dataframe thead th {\n",
              "        text-align: right;\n",
              "    }\n",
              "</style>\n",
              "<table border=\"1\" class=\"dataframe\">\n",
              "  <thead>\n",
              "    <tr style=\"text-align: right;\">\n",
              "      <th></th>\n",
              "      <th>Rooms</th>\n",
              "      <th>Type</th>\n",
              "      <th>Price</th>\n",
              "      <th>Distance</th>\n",
              "      <th>Postcode</th>\n",
              "      <th>Bathroom</th>\n",
              "      <th>Car</th>\n",
              "      <th>Landsize</th>\n",
              "      <th>BuildingArea</th>\n",
              "      <th>YearBuilt</th>\n",
              "      <th>unixtime</th>\n",
              "    </tr>\n",
              "  </thead>\n",
              "  <tbody>\n",
              "    <tr>\n",
              "      <th>0</th>\n",
              "      <td>0.2</td>\n",
              "      <td>h</td>\n",
              "      <td>0.022838</td>\n",
              "      <td>0.171674</td>\n",
              "      <td>0.037129</td>\n",
              "      <td>0.25</td>\n",
              "      <td>0.25</td>\n",
              "      <td>0.021836</td>\n",
              "      <td>0.111579</td>\n",
              "      <td>0.760000</td>\n",
              "      <td>0.155779</td>\n",
              "    </tr>\n",
              "    <tr>\n",
              "      <th>1</th>\n",
              "      <td>0.4</td>\n",
              "      <td>h</td>\n",
              "      <td>0.200888</td>\n",
              "      <td>0.283262</td>\n",
              "      <td>0.201733</td>\n",
              "      <td>0.25</td>\n",
              "      <td>0.25</td>\n",
              "      <td>0.015531</td>\n",
              "      <td>0.256386</td>\n",
              "      <td>0.647534</td>\n",
              "      <td>0.345059</td>\n",
              "    </tr>\n",
              "    <tr>\n",
              "      <th>2</th>\n",
              "      <td>0.2</td>\n",
              "      <td>u</td>\n",
              "      <td>0.054768</td>\n",
              "      <td>0.049356</td>\n",
              "      <td>0.080446</td>\n",
              "      <td>0.25</td>\n",
              "      <td>0.25</td>\n",
              "      <td>0.036739</td>\n",
              "      <td>0.256386</td>\n",
              "      <td>0.647534</td>\n",
              "      <td>0.871022</td>\n",
              "    </tr>\n",
              "    <tr>\n",
              "      <th>3</th>\n",
              "      <td>0.4</td>\n",
              "      <td>u</td>\n",
              "      <td>0.084584</td>\n",
              "      <td>0.165236</td>\n",
              "      <td>0.086634</td>\n",
              "      <td>0.25</td>\n",
              "      <td>0.25</td>\n",
              "      <td>0.004106</td>\n",
              "      <td>0.256386</td>\n",
              "      <td>0.647534</td>\n",
              "      <td>0.847571</td>\n",
              "    </tr>\n",
              "    <tr>\n",
              "      <th>4</th>\n",
              "      <td>0.2</td>\n",
              "      <td>u</td>\n",
              "      <td>0.077501</td>\n",
              "      <td>0.083691</td>\n",
              "      <td>0.148515</td>\n",
              "      <td>0.25</td>\n",
              "      <td>0.25</td>\n",
              "      <td>0.017585</td>\n",
              "      <td>0.153684</td>\n",
              "      <td>0.600000</td>\n",
              "      <td>0.484087</td>\n",
              "    </tr>\n",
              "  </tbody>\n",
              "</table>\n",
              "</div>"
            ],
            "text/plain": [
              "   Rooms Type     Price  Distance  ...  Landsize  BuildingArea  YearBuilt  unixtime\n",
              "0    0.2    h  0.022838  0.171674  ...  0.021836      0.111579   0.760000  0.155779\n",
              "1    0.4    h  0.200888  0.283262  ...  0.015531      0.256386   0.647534  0.345059\n",
              "2    0.2    u  0.054768  0.049356  ...  0.036739      0.256386   0.647534  0.871022\n",
              "3    0.4    u  0.084584  0.165236  ...  0.004106      0.256386   0.647534  0.847571\n",
              "4    0.2    u  0.077501  0.083691  ...  0.017585      0.153684   0.600000  0.484087\n",
              "\n",
              "[5 rows x 11 columns]"
            ]
          },
          "metadata": {},
          "execution_count": 10
        }
      ]
    },
    {
      "cell_type": "markdown",
      "metadata": {
        "id": "kBdbxrdsiWYj"
      },
      "source": [
        "## Q4 Load in the Test data and prep it for classification\n",
        "Everything we did to our \"train\" set, we need to now do in our \"test\" set. "
      ]
    },
    {
      "cell_type": "code",
      "metadata": {
        "id": "paGv7AHmiWYj"
      },
      "source": [
        "df_test = pd.read_csv('https://gist.githubusercontent.com/yanyanzheng96/c3d53303cebbd986b166591d19254bac/raw/94eb3b2d500d5f7bbc0441a8419cd855349d5d8e/melb_data_test.csv')"
      ],
      "execution_count": 11,
      "outputs": []
    },
    {
      "cell_type": "code",
      "metadata": {
        "id": "e5gvfwoYiWYk",
        "colab": {
          "base_uri": "https://localhost:8080/"
        },
        "outputId": "791295e2-faa6-4d11-a8ad-50ca8c3a88dd"
      },
      "source": [
        "df_test['Date'] = df_test['Date'].apply( lambda x : standardize_date(x)) \n",
        "df_test['unixtime'] = pd.to_datetime(df_test['Date'], format='%d/%m/%Y')\n",
        "df_test['unixtime'] = df_test['unixtime'].apply(lambda x: int(x.timestamp()))\n",
        "df_test = df_test.drop(columns=\"Date\")\n",
        "\n",
        "print(\"The min unixtime is {:d} and the max unixtime is {:d}\".format(df_test['unixtime'].min(),df_test['unixtime'].max()))"
      ],
      "execution_count": 12,
      "outputs": [
        {
          "output_type": "stream",
          "name": "stdout",
          "text": [
            "The min unixtime is 1454544000 and the max unixtime is 1506124800\n"
          ]
        }
      ]
    },
    {
      "cell_type": "code",
      "metadata": {
        "id": "tKPl15PniWYk",
        "colab": {
          "base_uri": "https://localhost:8080/",
          "height": 204
        },
        "outputId": "074852c2-411a-4605-dbd2-5ffbd07a3bc0"
      },
      "source": [
        "for col in df_test.columns:\n",
        "  if col == target_col:\n",
        "    continue\n",
        "  df_test[col] = df_test[col].fillna(value = dict_imputation[col])\n",
        "\n",
        "df_test.head()        "
      ],
      "execution_count": 13,
      "outputs": [
        {
          "output_type": "execute_result",
          "data": {
            "text/html": [
              "<div>\n",
              "<style scoped>\n",
              "    .dataframe tbody tr th:only-of-type {\n",
              "        vertical-align: middle;\n",
              "    }\n",
              "\n",
              "    .dataframe tbody tr th {\n",
              "        vertical-align: top;\n",
              "    }\n",
              "\n",
              "    .dataframe thead th {\n",
              "        text-align: right;\n",
              "    }\n",
              "</style>\n",
              "<table border=\"1\" class=\"dataframe\">\n",
              "  <thead>\n",
              "    <tr style=\"text-align: right;\">\n",
              "      <th></th>\n",
              "      <th>Rooms</th>\n",
              "      <th>Type</th>\n",
              "      <th>Price</th>\n",
              "      <th>Distance</th>\n",
              "      <th>Postcode</th>\n",
              "      <th>Bathroom</th>\n",
              "      <th>Car</th>\n",
              "      <th>Landsize</th>\n",
              "      <th>BuildingArea</th>\n",
              "      <th>YearBuilt</th>\n",
              "      <th>unixtime</th>\n",
              "    </tr>\n",
              "  </thead>\n",
              "  <tbody>\n",
              "    <tr>\n",
              "      <th>0</th>\n",
              "      <td>3</td>\n",
              "      <td>h</td>\n",
              "      <td>1116000</td>\n",
              "      <td>17.9</td>\n",
              "      <td>3192</td>\n",
              "      <td>1</td>\n",
              "      <td>2.0</td>\n",
              "      <td>610</td>\n",
              "      <td>121.7832</td>\n",
              "      <td>1970.941748</td>\n",
              "      <td>1498867200</td>\n",
              "    </tr>\n",
              "    <tr>\n",
              "      <th>1</th>\n",
              "      <td>3</td>\n",
              "      <td>h</td>\n",
              "      <td>2030000</td>\n",
              "      <td>11.2</td>\n",
              "      <td>3186</td>\n",
              "      <td>2</td>\n",
              "      <td>2.0</td>\n",
              "      <td>366</td>\n",
              "      <td>121.7832</td>\n",
              "      <td>1970.941748</td>\n",
              "      <td>1472342400</td>\n",
              "    </tr>\n",
              "    <tr>\n",
              "      <th>2</th>\n",
              "      <td>3</td>\n",
              "      <td>h</td>\n",
              "      <td>1480000</td>\n",
              "      <td>10.7</td>\n",
              "      <td>3187</td>\n",
              "      <td>2</td>\n",
              "      <td>2.0</td>\n",
              "      <td>697</td>\n",
              "      <td>143.0000</td>\n",
              "      <td>1925.000000</td>\n",
              "      <td>1478476800</td>\n",
              "    </tr>\n",
              "    <tr>\n",
              "      <th>3</th>\n",
              "      <td>3</td>\n",
              "      <td>u</td>\n",
              "      <td>1203500</td>\n",
              "      <td>12.3</td>\n",
              "      <td>3166</td>\n",
              "      <td>2</td>\n",
              "      <td>2.0</td>\n",
              "      <td>311</td>\n",
              "      <td>127.0000</td>\n",
              "      <td>2000.000000</td>\n",
              "      <td>1495843200</td>\n",
              "    </tr>\n",
              "    <tr>\n",
              "      <th>4</th>\n",
              "      <td>3</td>\n",
              "      <td>h</td>\n",
              "      <td>540000</td>\n",
              "      <td>14.7</td>\n",
              "      <td>3030</td>\n",
              "      <td>2</td>\n",
              "      <td>2.0</td>\n",
              "      <td>353</td>\n",
              "      <td>135.0000</td>\n",
              "      <td>2011.000000</td>\n",
              "      <td>1504396800</td>\n",
              "    </tr>\n",
              "  </tbody>\n",
              "</table>\n",
              "</div>"
            ],
            "text/plain": [
              "   Rooms Type    Price  ...  BuildingArea    YearBuilt    unixtime\n",
              "0      3    h  1116000  ...      121.7832  1970.941748  1498867200\n",
              "1      3    h  2030000  ...      121.7832  1970.941748  1472342400\n",
              "2      3    h  1480000  ...      143.0000  1925.000000  1478476800\n",
              "3      3    u  1203500  ...      127.0000  2000.000000  1495843200\n",
              "4      3    h   540000  ...      135.0000  2011.000000  1504396800\n",
              "\n",
              "[5 rows x 11 columns]"
            ]
          },
          "metadata": {},
          "execution_count": 13
        }
      ]
    },
    {
      "cell_type": "code",
      "metadata": {
        "id": "VgRAbk0jiWYk",
        "colab": {
          "base_uri": "https://localhost:8080/",
          "height": 204
        },
        "outputId": "1bada54b-16a2-4759-cde0-218818d7c499"
      },
      "source": [
        "for col in df_test.columns:\n",
        "  if col == target_col:\n",
        "    continue\n",
        "  Min = dict_normalize[col][0]\n",
        "  Max = dict_normalize[col][1]\n",
        "  Range = Max - Min\n",
        "  df_test[col] = df_test[col].apply(lambda x: (x - Min) / Range)\n",
        "\n",
        "df_test.head()"
      ],
      "execution_count": 14,
      "outputs": [
        {
          "output_type": "execute_result",
          "data": {
            "text/html": [
              "<div>\n",
              "<style scoped>\n",
              "    .dataframe tbody tr th:only-of-type {\n",
              "        vertical-align: middle;\n",
              "    }\n",
              "\n",
              "    .dataframe tbody tr th {\n",
              "        vertical-align: top;\n",
              "    }\n",
              "\n",
              "    .dataframe thead th {\n",
              "        text-align: right;\n",
              "    }\n",
              "</style>\n",
              "<table border=\"1\" class=\"dataframe\">\n",
              "  <thead>\n",
              "    <tr style=\"text-align: right;\">\n",
              "      <th></th>\n",
              "      <th>Rooms</th>\n",
              "      <th>Type</th>\n",
              "      <th>Price</th>\n",
              "      <th>Distance</th>\n",
              "      <th>Postcode</th>\n",
              "      <th>Bathroom</th>\n",
              "      <th>Car</th>\n",
              "      <th>Landsize</th>\n",
              "      <th>BuildingArea</th>\n",
              "      <th>YearBuilt</th>\n",
              "      <th>unixtime</th>\n",
              "    </tr>\n",
              "  </thead>\n",
              "  <tbody>\n",
              "    <tr>\n",
              "      <th>0</th>\n",
              "      <td>0.4</td>\n",
              "      <td>h</td>\n",
              "      <td>0.174455</td>\n",
              "      <td>0.369099</td>\n",
              "      <td>0.235149</td>\n",
              "      <td>0.25</td>\n",
              "      <td>0.5</td>\n",
              "      <td>0.014734</td>\n",
              "      <td>0.256386</td>\n",
              "      <td>0.647534</td>\n",
              "      <td>0.859296</td>\n",
              "    </tr>\n",
              "    <tr>\n",
              "      <th>1</th>\n",
              "      <td>0.4</td>\n",
              "      <td>h</td>\n",
              "      <td>0.367731</td>\n",
              "      <td>0.225322</td>\n",
              "      <td>0.227723</td>\n",
              "      <td>0.50</td>\n",
              "      <td>0.5</td>\n",
              "      <td>0.008841</td>\n",
              "      <td>0.256386</td>\n",
              "      <td>0.647534</td>\n",
              "      <td>0.345059</td>\n",
              "    </tr>\n",
              "    <tr>\n",
              "      <th>2</th>\n",
              "      <td>0.4</td>\n",
              "      <td>h</td>\n",
              "      <td>0.251427</td>\n",
              "      <td>0.214592</td>\n",
              "      <td>0.228960</td>\n",
              "      <td>0.50</td>\n",
              "      <td>0.5</td>\n",
              "      <td>0.016836</td>\n",
              "      <td>0.301053</td>\n",
              "      <td>0.280000</td>\n",
              "      <td>0.463987</td>\n",
              "    </tr>\n",
              "    <tr>\n",
              "      <th>3</th>\n",
              "      <td>0.4</td>\n",
              "      <td>u</td>\n",
              "      <td>0.192958</td>\n",
              "      <td>0.248927</td>\n",
              "      <td>0.202970</td>\n",
              "      <td>0.50</td>\n",
              "      <td>0.5</td>\n",
              "      <td>0.007512</td>\n",
              "      <td>0.267368</td>\n",
              "      <td>0.880000</td>\n",
              "      <td>0.800670</td>\n",
              "    </tr>\n",
              "    <tr>\n",
              "      <th>4</th>\n",
              "      <td>0.4</td>\n",
              "      <td>h</td>\n",
              "      <td>0.052654</td>\n",
              "      <td>0.300429</td>\n",
              "      <td>0.034653</td>\n",
              "      <td>0.50</td>\n",
              "      <td>0.5</td>\n",
              "      <td>0.008527</td>\n",
              "      <td>0.284211</td>\n",
              "      <td>0.968000</td>\n",
              "      <td>0.966499</td>\n",
              "    </tr>\n",
              "  </tbody>\n",
              "</table>\n",
              "</div>"
            ],
            "text/plain": [
              "   Rooms Type     Price  Distance  ...  Landsize  BuildingArea  YearBuilt  unixtime\n",
              "0    0.4    h  0.174455  0.369099  ...  0.014734      0.256386   0.647534  0.859296\n",
              "1    0.4    h  0.367731  0.225322  ...  0.008841      0.256386   0.647534  0.345059\n",
              "2    0.4    h  0.251427  0.214592  ...  0.016836      0.301053   0.280000  0.463987\n",
              "3    0.4    u  0.192958  0.248927  ...  0.007512      0.267368   0.880000  0.800670\n",
              "4    0.4    h  0.052654  0.300429  ...  0.008527      0.284211   0.968000  0.966499\n",
              "\n",
              "[5 rows x 11 columns]"
            ]
          },
          "metadata": {},
          "execution_count": 14
        }
      ]
    },
    {
      "cell_type": "markdown",
      "metadata": {
        "id": "fhCEsXSSiWYk"
      },
      "source": [
        "## Q5 Write the kNN classifier function\n",
        "Your function `knn_class`, should take five parameters, the training dataframe (that includes the target column), the hyper parameter `k`, the name of the target column, a single observation row (a series or attributes the same length as the attributes in `df_train`) of the test dataframe, and a boolean `use_weighted_vote`.  When `use_weighted_vote` is set to true, use weighted voting, otherwise use majority voting. We are assuming that the parameter `df_train` contains all of the attributes, and the target class in the same dataframe. The function returns the predicted target classification for that observation. To find the distance between the single observation and the training data frame you should use the [L2 norm](https://numpy.org/doc/stable/reference/generated/numpy.linalg.norm.html)"
      ]
    },
    {
      "cell_type": "code",
      "metadata": {
        "id": "tfUThP_tiWYl"
      },
      "source": [
        "def knn_class(df_train, k, target_col, observation, use_weighted_vote):\n",
        "  test = df_train.drop(columns=target_col)\n",
        "  obs = observation.drop(target_col)\n",
        "  types = df_train[target_col].unique()\n",
        "  test_obs = np.array(test - obs, dtype=np.float64)\n",
        "  norm = np.linalg.norm(test_obs, axis=1)\n",
        "  idx = np.argpartition(norm, k)\n",
        "  voting = np.zeros(len(types))\n",
        "\n",
        "  if (use_weighted_vote):\n",
        "    for i in range(len(types)):\n",
        "      t = types[i]\n",
        "      for j in idx[:k]:\n",
        "        if (df_train.iloc[j][target_col] == t):\n",
        "          voting[i] += 1/(norm[j])**2;\n",
        "  else:\n",
        "    for i in range(len(types)):\n",
        "      t = types[i]\n",
        "      for j in idx[:k]:\n",
        "        if (df_train.iloc[j][target_col] == t):\n",
        "          voting[i] += 1\n",
        "                    \n",
        "  Max = voting.max()\n",
        "  for i in range(len(types)):\n",
        "    if Max == voting[i]:\n",
        "      return types[i]"
      ],
      "execution_count": 15,
      "outputs": []
    },
    {
      "cell_type": "markdown",
      "metadata": {
        "id": "umE5hT02iWYl"
      },
      "source": [
        "## Q6 Compute the accuracy using different k values\n",
        "For each value of $k$ in the set $\\{1,3,13,25,50,100\\}$ calculate the class prediction for each oberservation in the test set, and the overall accuracy of the classifier.  Plot the accuracy as a function of $k$ when `use_weighted_vote` is `True` and when `use_weighted_vote` is `False`.\n",
        "\n",
        "Which value of $k$ would you chose, and would you use weighted voting or majority voting?\n",
        "\n",
        "Note, this took 20 seconds for me on Google Colab. "
      ]
    },
    {
      "cell_type": "code",
      "metadata": {
        "id": "z4Pzt7aciWYl",
        "colab": {
          "base_uri": "https://localhost:8080/"
        },
        "outputId": "85722188-01cb-4eee-bd28-7bdc0a84ef59"
      },
      "source": [
        "poss_k = [1,3,13,25,50,100] # possible k's\n",
        "acc_k_majority = list(np.zeros(len(poss_k))) # Accuracy for each value of k using majority voting\n",
        "acc_k_weighted = list(np.zeros(len(poss_k))) # Accuracy for each value of k using weighted voting\n",
        "\n",
        "for i in range(len(poss_k)):\n",
        "  weighted_acc = 0\n",
        "  majority_acc = 0\n",
        "  k = poss_k[i]\n",
        "\n",
        "  for j in range(len(df_test)):\n",
        "    test_feature = df_test.iloc[j]\n",
        "    test_target = test_feature[target_col]\n",
        "    weighted = knn_class(df_melb, k, target_col, test_feature, True)\n",
        "    majority = knn_class(df_melb, k, target_col, test_feature, False)\n",
        "    if weighted == test_target:\n",
        "      weighted_acc += 1\n",
        "    if majority == test_target:\n",
        "      majority_acc += 1\n",
        "  \n",
        "  weighted_acc /= len(df_test)\n",
        "  majority_acc /= len(df_test)\n",
        "  acc_k_weighted[i] = weighted_acc\n",
        "  acc_k_majority[i] = majority_acc\n",
        "  print(weighted_acc)\n",
        "  print(majority_acc)"
      ],
      "execution_count": 16,
      "outputs": [
        {
          "output_type": "stream",
          "name": "stdout",
          "text": [
            "0.67\n",
            "0.67\n",
            "0.73\n",
            "0.71\n",
            "0.71\n",
            "0.69\n",
            "0.7\n",
            "0.7\n",
            "0.7\n",
            "0.68\n",
            "0.7\n",
            "0.69\n"
          ]
        }
      ]
    },
    {
      "cell_type": "code",
      "metadata": {
        "id": "8qeqgM_siWYl",
        "colab": {
          "base_uri": "https://localhost:8080/",
          "height": 312
        },
        "outputId": "5da3b4e2-f5b5-47c7-fb5c-bd495fab2414"
      },
      "source": [
        "plt.plot(poss_k, acc_k_weighted, marker = 'o')\n",
        "plt.plot(poss_k, acc_k_majority, marker = 's')\n",
        "plt.legend(['Weighted Voting', 'Majority Voting'])\n",
        "plt.title('Accuracy on Test Set for Varied k')\n",
        "plt.xlabel('k')\n",
        "plt.ylabel('Accuracy')"
      ],
      "execution_count": 17,
      "outputs": [
        {
          "output_type": "execute_result",
          "data": {
            "text/plain": [
              "Text(0, 0.5, 'Accuracy')"
            ]
          },
          "metadata": {},
          "execution_count": 17
        },
        {
          "output_type": "display_data",
          "data": {
            "image/png": "[encoded data removed]",
            "text/plain": [
              "<Figure size 432x288 with 1 Axes>"
            ]
          },
          "metadata": {
            "needs_background": "light"
          }
        }
      ]
    },
    {
      "cell_type": "markdown",
      "metadata": {
        "id": "S78QMk-fiWYl"
      },
      "source": [
        "I would choose 3 as the value of k, and I would use weighted voting. In general, when k is 3, the model is the most accurate, and weighted voting performs better most of the time. "
      ]
    }
  ]
}