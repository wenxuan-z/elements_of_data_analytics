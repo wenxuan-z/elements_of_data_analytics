{
  "nbformat": 4,
  "nbformat_minor": 0,
  "metadata": {
    "kernelspec": {
      "display_name": "Python 3",
      "language": "python",
      "name": "python3"
    },
    "language_info": {
      "codemirror_mode": {
        "name": "ipython",
        "version": 3
      },
      "file_extension": ".py",
      "mimetype": "text/x-python",
      "name": "python",
      "nbconvert_exporter": "python",
      "pygments_lexer": "ipython3",
      "version": "3.8.8"
    },
    "colab": {
      "name": "329e_HW7.ipynb",
      "provenance": [],
      "collapsed_sections": []
    }
  },
  "cells": [
    {
      "cell_type": "markdown",
      "metadata": {
        "id": "JSXeDMY7NbxN"
      },
      "source": [
        "## C S 329E HW 7\n",
        "\n",
        "# Naive Bayes \n",
        "\n",
        "## Wenxuan Zhou Group 13\n",
        "\n",
        "For this week's homework we are going explore one new classification technique:\n",
        "\n",
        "  - Naive Bayes\n",
        "\n",
        "We are reusing the version of the Melbourne housing data set from HW6, to predict the housing type as one of three possible categories:\n",
        "\n",
        "  - 'h' house\n",
        "  - 'u' duplex\n",
        "  - 't' townhouse\n",
        "\n",
        "In addition to building our own Naive Bayes classifier, we are going to compare the performace of our classifier to the [Gaussian Naive Bayes Classifier](https://scikit-learn.org/stable/modules/naive_bayes.html#gaussian-naive-bayes) available in the scikit-learn library. "
      ]
    },
    {
      "cell_type": "code",
      "metadata": {
        "id": "BkLQP3AaNbxS"
      },
      "source": [
        "# These are the libraries you will use for this assignment\n",
        "import pandas as pd\n",
        "import numpy as np\n",
        "import matplotlib.pyplot as plt\n",
        "import time\n",
        "import calendar\n",
        "import math\n",
        "from sklearn.naive_bayes import GaussianNB # The only thing in scikit-learn you can use this assignment\n",
        "\n",
        "# Starting off loading a training set and setting a variable for the target column, \"Type\"\n",
        "df_melb = pd.read_csv('https://gist.githubusercontent.com/yanyanzheng96/81b236aecee57f6cf65e60afd865d2bb/raw/56ddb53aa90c26ab1bdbfd0b8d8229c8d08ce45a/melb_data_train.csv')\n",
        "target_col = 'Type'"
      ],
      "execution_count": 1,
      "outputs": []
    },
    {
      "cell_type": "markdown",
      "metadata": {
        "id": "7W37fvjdNbxT"
      },
      "source": [
        "## Q1 - Fix a column of data to be numeric\n",
        "If we inspect our dataframe, `df_melb` using the `dtypes` method, we see that the column \"Date\" is an object.  However, we think this column might contain useful information so we want to convert it to [seconds since epoch](https://en.wikipedia.org/wiki/Unix_time). Use only the exiting imported libraries to create a new column \"unixtime\". Be careful, the date strings in the file might have some non-uniform formating that you have to fix first.  Print out the min and max epoch time to check your work.  Drop the original \"Date\" column. \n",
        "\n",
        "THESE ARE THE EXACT SAME INSTRUCTIONS FROM HW6! Please take this opportunity to reuse your code (if you got it right last time). "
      ]
    },
    {
      "cell_type": "code",
      "metadata": {
        "id": "eTFsgkkKNbxU"
      },
      "source": [
        "# normalize date accepts the date string as shown in the df_melb 'Date' column,\n",
        "# and returns a data in a standarized format\n",
        "def standardize_date(d):\n",
        "  (day, month, year) = d.split('/')\n",
        "  if len(year) == 2:\n",
        "    year = '20' + year\n",
        "  return (day + '/' + month + '/' + year)"
      ],
      "execution_count": 2,
      "outputs": []
    },
    {
      "cell_type": "code",
      "metadata": {
        "colab": {
          "base_uri": "https://localhost:8080/"
        },
        "id": "uwBuM4w_NbxU",
        "outputId": "1828f1af-847a-4b06-b1d3-0ee66f409d02"
      },
      "source": [
        "df_melb['Date'] = df_melb['Date'].apply( standardize_date )\n",
        "df_melb['unixtime'] = df_melb['Date'].apply(lambda x: calendar.timegm(time.strptime(x, '%d/%m/%Y')))\n",
        "df_melb = df_melb.drop(columns=\"Date\")\n",
        "\n",
        "print(\"The min unixtime is {:d} and the max unixtime is {:d}\".format(df_melb['unixtime'].min(),df_melb['unixtime'].max()))"
      ],
      "execution_count": 3,
      "outputs": [
        {
          "output_type": "stream",
          "name": "stdout",
          "text": [
            "The min unixtime is 1454544000 and the max unixtime is 1506124800\n"
          ]
        }
      ]
    },
    {
      "cell_type": "markdown",
      "metadata": {
        "id": "ER2B8jiSNbxV"
      },
      "source": [
        "## Q2 Calculating the prior probabilities\n",
        "Calculate the prior probabilities for each possible \"Type\" in `df_melb` and populate a dictionary, `dict_priors`, where the key is the possible \"Type\" values and the value is the prior probabilities. Show the dictionary. Do not hardcode the possible values of \"Type\".  Don't forget about [value counts](https://pandas.pydata.org/docs/reference/api/pandas.Series.value_counts.html). "
      ]
    },
    {
      "cell_type": "code",
      "metadata": {
        "colab": {
          "base_uri": "https://localhost:8080/"
        },
        "id": "PjLGMNhsNbxV",
        "outputId": "977bf24a-3bfd-402a-d4ee-188e1b01be5d"
      },
      "source": [
        "dict_priors = df_melb[target_col].value_counts()\n",
        "dict_priors.index = dict_priors.index.astype(str)\n",
        "dict_priors = dict_priors.to_dict()\n",
        "dict_priors = {k: v / total for total in (sum(dict_priors.values()),) for k, v in dict_priors.items()}\n",
        "dict_priors\n",
        "\n",
        "# show the priors\n",
        "dict_priors"
      ],
      "execution_count": 4,
      "outputs": [
        {
          "output_type": "execute_result",
          "data": {
            "text/plain": [
              "{'h': 0.452, 't': 0.13, 'u': 0.418}"
            ]
          },
          "metadata": {},
          "execution_count": 4
        }
      ]
    },
    {
      "cell_type": "markdown",
      "metadata": {
        "id": "ZHQSiwaDNbxW"
      },
      "source": [
        "## Q3 Create a model for the distribution of all of the numeric attributes\n",
        "For each class, and for each attribute calculate the sample mean and sample standard deviation.  You should store the model in a nested dictionary, `dict_nb_model`, such that `dict_nb_model['h']['Rooms']` is a tuple containing the mean and standard deviation for the target Type 'h' and the attribute 'Rooms'.  Show the model using the `display` function. You should ignore entries that are `NaN` in the mean and [standard deviation](https://pandas.pydata.org/docs/reference/api/pandas.Series.std.html) calculation. "
      ]
    },
    {
      "cell_type": "code",
      "metadata": {
        "id": "3qCDm8kJNbxX"
      },
      "source": [
        "dict_nb_model = dict()\n",
        "for target in dict_priors.keys():\n",
        "  m = df_melb[df_melb[target_col] == target].mean()\n",
        "  s = df_melb[df_melb[target_col] == target].std()\n",
        "  result = pd.concat([m, s], axis=1)\n",
        "  result['values'] = result[[0, 1]].apply(tuple, axis=1)\n",
        "  result = result.drop(columns=[0,1])\n",
        "  result = result.squeeze().to_dict()\n",
        "  dict_nb_model[target] = result"
      ],
      "execution_count": 5,
      "outputs": []
    },
    {
      "cell_type": "code",
      "metadata": {
        "colab": {
          "base_uri": "https://localhost:8080/",
          "height": 527
        },
        "id": "eKqtx8qCNbxX",
        "outputId": "ce670478-582c-4abc-aeec-98b53ee331ee"
      },
      "source": [
        "display(dict_nb_model)"
      ],
      "execution_count": 6,
      "outputs": [
        {
          "output_type": "display_data",
          "data": {
            "text/plain": [
              "{'h': {'Bathroom': (1.5619469026548674, 0.6720871086493075),\n",
              "  'BuildingArea': (156.24339622641511, 54.62662837301434),\n",
              "  'Car': (1.7777777777777777, 0.932759177140425),\n",
              "  'Distance': (12.086725663716809, 7.397501132737295),\n",
              "  'Landsize': (932.9646017699115, 3830.7934157687164),\n",
              "  'Postcode': (3103.8982300884954, 98.35750345419703),\n",
              "  'Price': (1189022.3451327435, 586296.5794417895),\n",
              "  'Rooms': (3.269911504424779, 0.7258264201127756),\n",
              "  'YearBuilt': (1954.900826446281, 32.461876347154686),\n",
              "  'unixtime': (1485717578.761062, 13838562.050601462)},\n",
              " 't': {'Bathroom': (1.8461538461538463, 0.565430401076506),\n",
              "  'BuildingArea': (138.66666666666666, 53.498637054290135),\n",
              "  'Car': (1.6923076923076923, 0.5280588545286915),\n",
              "  'Distance': (10.766153846153845, 4.870455475462387),\n",
              "  'Landsize': (268.18461538461537, 276.57700624711265),\n",
              "  'Postcode': (3121.6153846153848, 100.01588816090862),\n",
              "  'Price': (1000169.2307692308, 421822.5363389935),\n",
              "  'Rooms': (2.9076923076923076, 0.6052653582075831),\n",
              "  'YearBuilt': (1997.0227272727273, 16.99177453038181),\n",
              "  'unixtime': (1486525292.3076923, 12640127.60987191)},\n",
              " 'u': {'Bathroom': (1.1818181818181819, 0.42228151548662185),\n",
              "  'BuildingArea': (83.85585585585585, 45.959438015166604),\n",
              "  'Car': (1.1483253588516746, 0.47231993860296956),\n",
              "  'Distance': (8.760287081339715, 5.609778714430755),\n",
              "  'Landsize': (436.23444976076553, 1394.3403794653254),\n",
              "  'Postcode': (3120.4545454545455, 87.18475679946482),\n",
              "  'Price': (634207.1770334928, 217947.32866736987),\n",
              "  'Rooms': (2.0430622009569377, 0.5908453859944267),\n",
              "  'YearBuilt': (1976.451388888889, 24.557291330642666),\n",
              "  'unixtime': (1484176719.617225, 13494566.111289721)}}"
            ]
          },
          "metadata": {}
        }
      ]
    },
    {
      "cell_type": "markdown",
      "metadata": {
        "id": "hQ7PpUisNbxY"
      },
      "source": [
        "## Q4 Write a function that calculates the probability of a Gaussian\n",
        "Given the mean ($\\mu$), standard deviation ($\\sigma$), and a observed point, `x`, return the probability.  \n",
        "Use the formula $p(x) = \\frac{1}{\\sigma \\sqrt{2 \\pi}} e^{-\\frac{1}{2}(\\frac{x-\\mu}{\\sigma})^2}$ ([wiki](https://en.wikipedia.org/wiki/Normal_distribution)).  You should use [numpy's exp](https://numpy.org/doc/stable/reference/generated/numpy.exp.html) function in your solution. "
      ]
    },
    {
      "cell_type": "code",
      "metadata": {
        "id": "xzXaTL4GNbxY"
      },
      "source": [
        "def get_p( mu, sigma, x):\n",
        "    return (1 / (sigma * math.sqrt(2 * math.pi)) * math.exp(-0.5 * ((x - mu) / sigma) ** 2))"
      ],
      "execution_count": 7,
      "outputs": []
    },
    {
      "cell_type": "code",
      "metadata": {
        "colab": {
          "base_uri": "https://localhost:8080/"
        },
        "id": "25N6zk_mNbxY",
        "outputId": "6088ab70-cf4c-4b3a-c767-0bac97b63519"
      },
      "source": [
        "# Test it\n",
        "p = get_p( 0, 2, 0.5)\n",
        "p"
      ],
      "execution_count": 8,
      "outputs": [
        {
          "output_type": "execute_result",
          "data": {
            "text/plain": [
              "0.19333405840142462"
            ]
          },
          "metadata": {},
          "execution_count": 8
        }
      ]
    },
    {
      "cell_type": "markdown",
      "metadata": {
        "id": "I7uT4m3cNbxY"
      },
      "source": [
        "## Q5 Write the Naive Bayes classifier function\n",
        "The Naive Bayes classifier function, `nb_class`, should take as a parameter the prior probability dictionary. `dict_priors`, the dictionary containing all of the gaussian distribution information for each attribue, `dict_nb_model`, and a single observation row (a series generated from iterrows) of the test dataframe. It should return a single target classification. For this problem, all of our attributes are numeric and modeled as Gaussians, so we don't worry about categorical data. Make sure to skip attributes that do not have a value in the observation.  Do not hardcode the possible classification types. "
      ]
    },
    {
      "cell_type": "code",
      "metadata": {
        "id": "Gvdscxm5NbxZ"
      },
      "source": [
        "def nb_class( dict_priors, dict_nb_model, observation):\n",
        "  prob_list = dict_priors.copy()\n",
        "  for i in dict_priors.keys():\n",
        "    for j in observation.index:\n",
        "      if pd.isna(observation[j]) == False:\n",
        "        prob_list[i] *= get_p(dict_nb_model[i][j][0], dict_nb_model[i][j][1], observation[j])\n",
        "  result = max(prob_list, key=prob_list.get)\n",
        "  return result"
      ],
      "execution_count": 9,
      "outputs": []
    },
    {
      "cell_type": "markdown",
      "metadata": {
        "id": "WwQzySbYNbxZ"
      },
      "source": [
        "## Q6 Calculate the accuracy using Naive Bayes classifier function on the test set\n",
        "Load the test set from file, convert date to unix time and drop the date column, classify each row using your `nb_class`, and then show the accuracy on the test set. "
      ]
    },
    {
      "cell_type": "code",
      "metadata": {
        "id": "g9Miq2OSNbxZ"
      },
      "source": [
        "df_test = pd.read_csv('https://gist.githubusercontent.com/yanyanzheng96/c3d53303cebbd986b166591d19254bac/raw/94eb3b2d500d5f7bbc0441a8419cd855349d5d8e/melb_data_test.csv')\n",
        "df_test['Date'] = df_test['Date'].apply( standardize_date )\n",
        "df_test['unixtime'] = df_test['Date'].apply(lambda x: calendar.timegm(time.strptime(x, '%d/%m/%Y')))\n",
        "df_test = df_test.drop(columns=\"Date\")"
      ],
      "execution_count": 10,
      "outputs": []
    },
    {
      "cell_type": "code",
      "metadata": {
        "id": "dfVxIle-VJan"
      },
      "source": [
        "df_test_2 = df_test.copy()\n",
        "df_test_2 = df_test_2.drop(columns=target_col)"
      ],
      "execution_count": 11,
      "outputs": []
    },
    {
      "cell_type": "code",
      "metadata": {
        "id": "JKK6_6rANbxZ"
      },
      "source": [
        "predictions = []\n",
        "\n",
        "for (indx,row) in df_test_2.iterrows():\n",
        "    predictions.append(nb_class(dict_priors, dict_nb_model, row))"
      ],
      "execution_count": 12,
      "outputs": []
    },
    {
      "cell_type": "code",
      "metadata": {
        "id": "GhoWDMkoXZ9W"
      },
      "source": [
        "def get_acc( s_1, s_2 ):\n",
        "    n = 0\n",
        "    for i in range(len(s_1)):\n",
        "      if s_1[i] == s_2[i]:\n",
        "        n += 1\n",
        "    return n / len(s_1)"
      ],
      "execution_count": 13,
      "outputs": []
    },
    {
      "cell_type": "code",
      "metadata": {
        "id": "Ou5kUshkNbxa"
      },
      "source": [
        "acc = get_acc(predictions, df_test[target_col].tolist())"
      ],
      "execution_count": 14,
      "outputs": []
    },
    {
      "cell_type": "code",
      "metadata": {
        "id": "6P2Y5WrHNbxa",
        "colab": {
          "base_uri": "https://localhost:8080/"
        },
        "outputId": "4278d1cb-1b60-4d7e-aba0-a92a41b49898"
      },
      "source": [
        "print('Accuracy is {:.2f}%'.format(acc*100))"
      ],
      "execution_count": 15,
      "outputs": [
        {
          "output_type": "stream",
          "name": "stdout",
          "text": [
            "Accuracy is 57.00%\n"
          ]
        }
      ]
    },
    {
      "cell_type": "markdown",
      "metadata": {
        "id": "SEE2oNADNbxa"
      },
      "source": [
        "## Use scikit-learn to do the same thing!\n",
        "\n",
        "Now we understand the inner workings of the Naive Bayes algorithm, let's compare our results to [scikit-learn's Naive Bayes](https://scikit-learn.org/stable/modules/naive_bayes.html) implementation. Use the [GaussianNB](https://scikit-learn.org/stable/modules/naive_bayes.html#gaussian-naive-bayes) to train using the `df_melb`dataframe and test using the `df_test` dataframe. Remember to split `df_melb` into a `df_X` with the numerical attributes, and a `s_y` with the target column. On the `df_melb` frame you will have to fill the empty attributes via imputation since the scikit-learn library can not handle missing values.  Use the same method you used in the last homework (filling the training data with the mean of the non-nan values). \n",
        "\n",
        "Answer the following in a markdown cell: do you think imputation hurt or helped the classifier?"
      ]
    },
    {
      "cell_type": "code",
      "metadata": {
        "id": "EWnRj-7ENbxa"
      },
      "source": [
        "# Imputation training\n",
        "dict_imputation = dict()\n",
        "\n",
        "for i in df_melb.select_dtypes(include=np.number).columns:\n",
        "    df_melb[i] = df_melb[i].fillna(value=df_melb[i].mean())\n",
        "\n",
        "for target in dict_priors.keys():\n",
        "  m = df_melb[df_melb[target_col] == target].mean()\n",
        "  s = df_melb[df_melb[target_col] == target].std()\n",
        "  result = pd.concat([m, s], axis=1)\n",
        "  result['values'] = result[[0, 1]].apply(tuple, axis=1)\n",
        "  result = result.drop(columns=[0,1])\n",
        "  result = result.squeeze().to_dict()\n",
        "  dict_imputation[target] = result\n",
        "        \n",
        "# Imputation - apply on the test data\n",
        "for i in df_test_2.select_dtypes(include=np.number).columns:\n",
        "    df_test_2[i] = df_test_2[i].fillna(value=df_test[i].mean())\n",
        "\n",
        "# Seperate the attributes from the target_col\n",
        "df_X = df_melb.drop(columns=target_col)\n",
        "s_y = df_melb[target_col]"
      ],
      "execution_count": 16,
      "outputs": []
    },
    {
      "cell_type": "code",
      "metadata": {
        "id": "hNwzy7lWNbxb",
        "colab": {
          "base_uri": "https://localhost:8080/"
        },
        "outputId": "b1480310-7895-4eb2-b7a4-1e38b01c6a47"
      },
      "source": [
        "gnb = GaussianNB()\n",
        "y_pred = gnb.fit(df_X, s_y).predict(df_test_2)\n",
        "y_pred"
      ],
      "execution_count": 17,
      "outputs": [
        {
          "output_type": "execute_result",
          "data": {
            "text/plain": [
              "array(['t', 'h', 't', 't', 'u', 'u', 't', 'u', 't', 'u', 'u', 't', 'u',\n",
              "       'u', 'u', 't', 'h', 'h', 't', 'u', 't', 't', 'u', 'h', 't', 't',\n",
              "       'u', 'h', 'h', 't', 't', 't', 't', 'u', 'h', 'u', 'u', 'h', 't',\n",
              "       't', 't', 'u', 'u', 'u', 'h', 'h', 'u', 'u', 't', 'u', 't', 't',\n",
              "       't', 'u', 'u', 'u', 't', 't', 'u', 'u', 't', 'u', 'u', 'u', 't',\n",
              "       'h', 't', 'u', 'u', 'u', 'u', 't', 'u', 't', 'u', 't', 'u', 'u',\n",
              "       'u', 't', 'u', 'h', 'u', 'u', 'u', 'u', 't', 't', 'u', 'u', 'u',\n",
              "       'u', 'u', 'h', 'u', 'u', 'u', 't', 'h', 'u'], dtype='<U1')"
            ]
          },
          "metadata": {},
          "execution_count": 17
        }
      ]
    },
    {
      "cell_type": "code",
      "metadata": {
        "id": "4qYDv90eNbxb",
        "colab": {
          "base_uri": "https://localhost:8080/"
        },
        "outputId": "81573885-3bac-4c10-b9f7-ac865a86e1a1"
      },
      "source": [
        "acc = get_acc(y_pred, df_test[target_col].tolist())\n",
        "print('Accuracy is {:.2f}%'.format(acc*100))"
      ],
      "execution_count": 18,
      "outputs": [
        {
          "output_type": "stream",
          "name": "stdout",
          "text": [
            "Accuracy is 37.00%\n"
          ]
        }
      ]
    },
    {
      "cell_type": "markdown",
      "metadata": {
        "id": "t6InE78XNbxb"
      },
      "source": [
        "I think imputation hurts the classifier. The accuracy before imputation is 57%, and after imputation, it drops to 37%, which means that imputation makes the accuracy decrease. "
      ]
    }
  ]
}