{
  "nbformat": 4,
  "nbformat_minor": 0,
  "metadata": {
    "colab": {
      "name": "329E_HW4.ipynb",
      "provenance": [],
      "collapsed_sections": []
    },
    "kernelspec": {
      "display_name": "Python 3",
      "language": "python",
      "name": "python3"
    },
    "language_info": {
      "codemirror_mode": {
        "name": "ipython",
        "version": 3
      },
      "file_extension": ".py",
      "mimetype": "text/x-python",
      "name": "python",
      "nbconvert_exporter": "python",
      "pygments_lexer": "ipython3",
      "version": "3.8.8"
    }
  },
  "cells": [
    {
      "cell_type": "markdown",
      "metadata": {
        "id": "CsII0Mcormyn"
      },
      "source": [
        "### C S 329E HW 4\n",
        "\n",
        "## Pair Programming Group Number: 29\n",
        "## Members of Team: Wenxuan Zhou\n",
        "\n",
        "## Decision Tree Classifier\n",
        "\n",
        "\n",
        "For this weeks homework we are going to explore ideas around decision tree implementation!  \n",
        "\n",
        "We will implement some helper functions that would be necessary for a home-grown tree:\n",
        "  - calc_entropy\n",
        "  - calc_gini\n",
        "  \n",
        "and them test them out at given data splits. \n",
        "  \n",
        "And finally, to perform predictive and descriptive analytics we use the [Decision Tree Classifier](https://scikit-learn.org/stable/modules/tree.html#classification) class in the scikit-learn package.\n",
        "\n",
        "  \n",
        "For this assignment, the stopping condition will be the depth of the tree. The impurity measure can be either `Entropy` or `Gini`.\n",
        "\n",
        "To test our tree built from the Decision Tree Classifier class, we will revisit our Melbourne housing data (that has been cleaned and pruned) and use the files:\n",
        "\n",
        "   - `melb_tree_train.csv` for training the decision tree (we'll also see what happens if we use the same data to test as we used to train the data in the last problem)\n",
        "   - `melb_tree_test.csv` for testing the decision tree\n",
        "\n",
        "There are 10 features in these dataframes that we can use to describe and predict the class label housing \"Type\", which is 'h' house, 'u' duplex, or 't' townhome. "
      ]
    },
    {
      "cell_type": "code",
      "metadata": {
        "id": "XW5qmE_qrmyp"
      },
      "source": [
        "# import the libraries\n",
        "import pandas as pd\n",
        "import numpy as np\n",
        "import matplotlib.pyplot as plt\n",
        "from math import log2\n",
        "from sklearn import tree # you'll probably need to install this - look at Q6 for a link \n",
        "import graphviz # you'll probably need to install this - look at Q6 for a link "
      ],
      "execution_count": 1,
      "outputs": []
    },
    {
      "cell_type": "code",
      "metadata": {
        "colab": {
          "base_uri": "https://localhost:8080/",
          "height": 204
        },
        "id": "oHRp2EZkr9S2",
        "outputId": "0ad3f04a-8fd8-41a2-f7ce-f3177cf7d902"
      },
      "source": [
        "df_train = pd.read_csv('https://gist.githubusercontent.com/yanyanzheng96/f8ba57f8377dee0810271475c728fca8/raw/afa3fa4305b55e31135980835d40b27af31f288c/melb_tree_train.csv')\n",
        "df_train.head()"
      ],
      "execution_count": 2,
      "outputs": [
        {
          "output_type": "execute_result",
          "data": {
            "text/html": [
              "<div>\n",
              "<style scoped>\n",
              "    .dataframe tbody tr th:only-of-type {\n",
              "        vertical-align: middle;\n",
              "    }\n",
              "\n",
              "    .dataframe tbody tr th {\n",
              "        vertical-align: top;\n",
              "    }\n",
              "\n",
              "    .dataframe thead th {\n",
              "        text-align: right;\n",
              "    }\n",
              "</style>\n",
              "<table border=\"1\" class=\"dataframe\">\n",
              "  <thead>\n",
              "    <tr style=\"text-align: right;\">\n",
              "      <th></th>\n",
              "      <th>Rooms</th>\n",
              "      <th>Type</th>\n",
              "      <th>Price</th>\n",
              "      <th>Distance</th>\n",
              "      <th>Bedroom2</th>\n",
              "      <th>Bathroom</th>\n",
              "      <th>Car</th>\n",
              "      <th>Landsize</th>\n",
              "      <th>BuildingArea</th>\n",
              "      <th>YearBuilt</th>\n",
              "      <th>CouncilArea</th>\n",
              "    </tr>\n",
              "  </thead>\n",
              "  <tbody>\n",
              "    <tr>\n",
              "      <th>0</th>\n",
              "      <td>2</td>\n",
              "      <td>t</td>\n",
              "      <td>771000.0</td>\n",
              "      <td>13.8</td>\n",
              "      <td>2.0</td>\n",
              "      <td>1.0</td>\n",
              "      <td>1.0</td>\n",
              "      <td>0.0</td>\n",
              "      <td>99.0</td>\n",
              "      <td>1992.0</td>\n",
              "      <td>Bayside</td>\n",
              "    </tr>\n",
              "    <tr>\n",
              "      <th>1</th>\n",
              "      <td>3</td>\n",
              "      <td>t</td>\n",
              "      <td>700000.0</td>\n",
              "      <td>7.9</td>\n",
              "      <td>3.0</td>\n",
              "      <td>2.0</td>\n",
              "      <td>1.0</td>\n",
              "      <td>189.0</td>\n",
              "      <td>110.0</td>\n",
              "      <td>1990.0</td>\n",
              "      <td>Banyule</td>\n",
              "    </tr>\n",
              "    <tr>\n",
              "      <th>2</th>\n",
              "      <td>3</td>\n",
              "      <td>u</td>\n",
              "      <td>975000.0</td>\n",
              "      <td>12.1</td>\n",
              "      <td>3.0</td>\n",
              "      <td>2.0</td>\n",
              "      <td>1.0</td>\n",
              "      <td>277.0</td>\n",
              "      <td>109.0</td>\n",
              "      <td>1975.0</td>\n",
              "      <td>Glen Eira</td>\n",
              "    </tr>\n",
              "    <tr>\n",
              "      <th>3</th>\n",
              "      <td>3</td>\n",
              "      <td>h</td>\n",
              "      <td>1290000.0</td>\n",
              "      <td>8.0</td>\n",
              "      <td>3.0</td>\n",
              "      <td>1.0</td>\n",
              "      <td>1.0</td>\n",
              "      <td>618.0</td>\n",
              "      <td>132.0</td>\n",
              "      <td>1960.0</td>\n",
              "      <td>Moonee Valley</td>\n",
              "    </tr>\n",
              "    <tr>\n",
              "      <th>4</th>\n",
              "      <td>2</td>\n",
              "      <td>u</td>\n",
              "      <td>500000.0</td>\n",
              "      <td>4.2</td>\n",
              "      <td>2.0</td>\n",
              "      <td>1.0</td>\n",
              "      <td>1.0</td>\n",
              "      <td>0.0</td>\n",
              "      <td>86.0</td>\n",
              "      <td>2000.0</td>\n",
              "      <td>Melbourne</td>\n",
              "    </tr>\n",
              "  </tbody>\n",
              "</table>\n",
              "</div>"
            ],
            "text/plain": [
              "   Rooms Type      Price  ...  BuildingArea  YearBuilt    CouncilArea\n",
              "0      2    t   771000.0  ...          99.0     1992.0        Bayside\n",
              "1      3    t   700000.0  ...         110.0     1990.0        Banyule\n",
              "2      3    u   975000.0  ...         109.0     1975.0      Glen Eira\n",
              "3      3    h  1290000.0  ...         132.0     1960.0  Moonee Valley\n",
              "4      2    u   500000.0  ...          86.0     2000.0      Melbourne\n",
              "\n",
              "[5 rows x 11 columns]"
            ]
          },
          "metadata": {},
          "execution_count": 2
        }
      ]
    },
    {
      "cell_type": "code",
      "metadata": {
        "colab": {
          "base_uri": "https://localhost:8080/",
          "height": 204
        },
        "id": "YPFbglKfsFOv",
        "outputId": "e48d0db2-6978-4d1f-c197-24e61c46f25c"
      },
      "source": [
        "df_test = pd.read_csv('https://gist.githubusercontent.com/yanyanzheng96/ec66da011b165f0e282c0c1f8447010e/raw/d02c3829a7e9db2d156ba1ab9d5bb4d18ae57be8/melb_tree_test.csv')\n",
        "df_test.head()"
      ],
      "execution_count": 3,
      "outputs": [
        {
          "output_type": "execute_result",
          "data": {
            "text/html": [
              "<div>\n",
              "<style scoped>\n",
              "    .dataframe tbody tr th:only-of-type {\n",
              "        vertical-align: middle;\n",
              "    }\n",
              "\n",
              "    .dataframe tbody tr th {\n",
              "        vertical-align: top;\n",
              "    }\n",
              "\n",
              "    .dataframe thead th {\n",
              "        text-align: right;\n",
              "    }\n",
              "</style>\n",
              "<table border=\"1\" class=\"dataframe\">\n",
              "  <thead>\n",
              "    <tr style=\"text-align: right;\">\n",
              "      <th></th>\n",
              "      <th>Rooms</th>\n",
              "      <th>Type</th>\n",
              "      <th>Price</th>\n",
              "      <th>Distance</th>\n",
              "      <th>Bedroom2</th>\n",
              "      <th>Bathroom</th>\n",
              "      <th>Car</th>\n",
              "      <th>Landsize</th>\n",
              "      <th>BuildingArea</th>\n",
              "      <th>YearBuilt</th>\n",
              "      <th>CouncilArea</th>\n",
              "    </tr>\n",
              "  </thead>\n",
              "  <tbody>\n",
              "    <tr>\n",
              "      <th>0</th>\n",
              "      <td>2</td>\n",
              "      <td>t</td>\n",
              "      <td>930000.0</td>\n",
              "      <td>2.6</td>\n",
              "      <td>2.0</td>\n",
              "      <td>1.0</td>\n",
              "      <td>1.0</td>\n",
              "      <td>97.0</td>\n",
              "      <td>85.0</td>\n",
              "      <td>2004.0</td>\n",
              "      <td>Yarra</td>\n",
              "    </tr>\n",
              "    <tr>\n",
              "      <th>1</th>\n",
              "      <td>3</td>\n",
              "      <td>t</td>\n",
              "      <td>815000.0</td>\n",
              "      <td>11.0</td>\n",
              "      <td>3.0</td>\n",
              "      <td>2.0</td>\n",
              "      <td>2.0</td>\n",
              "      <td>159.0</td>\n",
              "      <td>130.0</td>\n",
              "      <td>2014.0</td>\n",
              "      <td>Hobsons Bay</td>\n",
              "    </tr>\n",
              "    <tr>\n",
              "      <th>2</th>\n",
              "      <td>4</td>\n",
              "      <td>h</td>\n",
              "      <td>638000.0</td>\n",
              "      <td>13.0</td>\n",
              "      <td>4.0</td>\n",
              "      <td>2.0</td>\n",
              "      <td>1.0</td>\n",
              "      <td>624.0</td>\n",
              "      <td>258.0</td>\n",
              "      <td>2005.0</td>\n",
              "      <td>Moreland</td>\n",
              "    </tr>\n",
              "    <tr>\n",
              "      <th>3</th>\n",
              "      <td>2</td>\n",
              "      <td>t</td>\n",
              "      <td>595000.0</td>\n",
              "      <td>11.2</td>\n",
              "      <td>2.0</td>\n",
              "      <td>2.0</td>\n",
              "      <td>1.0</td>\n",
              "      <td>201.0</td>\n",
              "      <td>111.0</td>\n",
              "      <td>2005.0</td>\n",
              "      <td>Moreland</td>\n",
              "    </tr>\n",
              "    <tr>\n",
              "      <th>4</th>\n",
              "      <td>3</td>\n",
              "      <td>t</td>\n",
              "      <td>620500.0</td>\n",
              "      <td>11.2</td>\n",
              "      <td>3.0</td>\n",
              "      <td>2.0</td>\n",
              "      <td>1.0</td>\n",
              "      <td>158.0</td>\n",
              "      <td>117.0</td>\n",
              "      <td>2011.0</td>\n",
              "      <td>Darebin</td>\n",
              "    </tr>\n",
              "  </tbody>\n",
              "</table>\n",
              "</div>"
            ],
            "text/plain": [
              "   Rooms Type     Price  ...  BuildingArea  YearBuilt  CouncilArea\n",
              "0      2    t  930000.0  ...          85.0     2004.0        Yarra\n",
              "1      3    t  815000.0  ...         130.0     2014.0  Hobsons Bay\n",
              "2      4    h  638000.0  ...         258.0     2005.0     Moreland\n",
              "3      2    t  595000.0  ...         111.0     2005.0     Moreland\n",
              "4      3    t  620500.0  ...         117.0     2011.0      Darebin\n",
              "\n",
              "[5 rows x 11 columns]"
            ]
          },
          "metadata": {},
          "execution_count": 3
        }
      ]
    },
    {
      "cell_type": "markdown",
      "metadata": {
        "id": "tSpic2Eurmyq"
      },
      "source": [
        "## Q1 Load the Data\n",
        "Load in the melb_tree_train.csv into a dataframe, and split that dataframe into `df_X`, which contains the features of the data set (everything but `Type`), and `s_y`, the series containing just the class label (just `Type`). The lengths of `df_X` and `s_y` should match."
      ]
    },
    {
      "cell_type": "code",
      "metadata": {
        "id": "FnNRRkhWrmyq"
      },
      "source": [
        "df_X = df_train.drop('Type', 1)\n",
        "s_y = pd.DataFrame(df_train['Type'], columns=['Type'])"
      ],
      "execution_count": 4,
      "outputs": []
    },
    {
      "cell_type": "markdown",
      "metadata": {
        "id": "OBhSoBUYrmyq"
      },
      "source": [
        "## Q2 Implement a function to calculate entropy \n",
        "Implement a function `calc_entropy` that takes the the class label series, `s_y`, as a parameter. Implement using the definition on p128 in the DM book and only use pandas and log2 libraries"
      ]
    },
    {
      "cell_type": "code",
      "metadata": {
        "id": "Yv5e5k0Lrmyr"
      },
      "source": [
        "# calc_entropy(s_y) definition\n",
        "def calc_entropy(s_y):\n",
        "  n = len(s_y)\n",
        "  entropy = 0\n",
        "  for i in s_y.Type.unique():\n",
        "      a = int(s_y[s_y['Type'] == i].count())\n",
        "      p = a/n\n",
        "      entropy += -p * log2(p)\n",
        "  return entropy"
      ],
      "execution_count": 5,
      "outputs": []
    },
    {
      "cell_type": "markdown",
      "metadata": {
        "id": "MLp2bn0Xrmyr"
      },
      "source": [
        "## Q3 Use the entropy function to\n",
        "  - (a) Calculate the entropy of the entire training set\n",
        "  - (b) Calculate the entropy of the three partitions formed from the following three intervals:\n",
        "\n",
        "(i) Landsize $\\in [0,200]$\n",
        "\n",
        "(ii) Landsize $\\in (200,450]$\n",
        "\n",
        "(iii) Landsize $\\in (450, \\infty)$"
      ]
    },
    {
      "cell_type": "code",
      "metadata": {
        "id": "VXttKnTirmyr",
        "colab": {
          "base_uri": "https://localhost:8080/"
        },
        "outputId": "d0606e0c-7ec9-4558-b11b-d89615027d51"
      },
      "source": [
        "# The entire data set\n",
        "calc_entropy(s_y)"
      ],
      "execution_count": 6,
      "outputs": [
        {
          "output_type": "execute_result",
          "data": {
            "text/plain": [
              "1.5825333114261775"
            ]
          },
          "metadata": {},
          "execution_count": 6
        }
      ]
    },
    {
      "cell_type": "code",
      "metadata": {
        "id": "qEm2Nbuxrmys",
        "colab": {
          "base_uri": "https://localhost:8080/"
        },
        "outputId": "ca1e08f2-d7af-48c8-bd9c-f5395aa277b2"
      },
      "source": [
        "# Less than or equal to 200\n",
        "calc_entropy(pd.DataFrame(df_train[df_train['Landsize'] <= 200]['Type']))"
      ],
      "execution_count": 7,
      "outputs": [
        {
          "output_type": "execute_result",
          "data": {
            "text/plain": [
              "1.3456432116206725"
            ]
          },
          "metadata": {},
          "execution_count": 7
        }
      ]
    },
    {
      "cell_type": "code",
      "metadata": {
        "id": "grNiOkRgrmys",
        "colab": {
          "base_uri": "https://localhost:8080/"
        },
        "outputId": "4189b028-4024-45ac-dce8-4c51af0ffd8b"
      },
      "source": [
        "# Between 200 and 450\n",
        "calc_entropy(pd.DataFrame(df_train[(df_train['Landsize'] > 200) & (df_train['Landsize'] <= 450)]['Type']))"
      ],
      "execution_count": 8,
      "outputs": [
        {
          "output_type": "execute_result",
          "data": {
            "text/plain": [
              "1.4660501816027975"
            ]
          },
          "metadata": {},
          "execution_count": 8
        }
      ]
    },
    {
      "cell_type": "code",
      "metadata": {
        "id": "hRHOSY7Brmys",
        "colab": {
          "base_uri": "https://localhost:8080/"
        },
        "outputId": "2508dfdf-edab-4371-bac6-bcf68ff2afb5"
      },
      "source": [
        "# greater than 450\n",
        "calc_entropy(pd.DataFrame(df_train[df_train['Landsize'] > 450]['Type']))"
      ],
      "execution_count": 9,
      "outputs": [
        {
          "output_type": "execute_result",
          "data": {
            "text/plain": [
              "1.09954792005911"
            ]
          },
          "metadata": {},
          "execution_count": 9
        }
      ]
    },
    {
      "cell_type": "markdown",
      "metadata": {
        "id": "3STCrFxqrmys"
      },
      "source": [
        "## Q4 Implement a function to calculate the Gini Index\n",
        "Implement the function `calc_gini` that takes the class label series, `s_y`, as a parameter. Implement using the definition on p128 in the DM book and only use the pandas library."
      ]
    },
    {
      "cell_type": "code",
      "metadata": {
        "id": "9HWZHo9_rmyt"
      },
      "source": [
        "def calc_gini( s_y ):\n",
        "  n = len(s_y)\n",
        "  gini = 1;\n",
        "  for i in s_y.Type.unique():\n",
        "      a = int(s_y[s_y['Type'] == i].count())\n",
        "      p = a/n\n",
        "      gini -= p**2\n",
        "  return gini"
      ],
      "execution_count": 10,
      "outputs": []
    },
    {
      "cell_type": "markdown",
      "metadata": {
        "id": "4oxrseZZrmyt"
      },
      "source": [
        "## Q5 Use the Gini Index function to\n",
        "  - (a) Calculate the Gini index of the entire training set\n",
        "  - (b) Calculate the Gini index of the three partitions formed from the following three intervals:\n",
        "\n",
        "(i) Landsize $\\in [0,200]$\n",
        "\n",
        "(ii) Landsize $\\in (200,450]$\n",
        "\n",
        "(iii) Landsize $\\in (450, \\infty)$"
      ]
    },
    {
      "cell_type": "code",
      "metadata": {
        "id": "hSc2RRtHrmyt",
        "colab": {
          "base_uri": "https://localhost:8080/"
        },
        "outputId": "d6675937-4020-44df-fffa-91b923c015b1"
      },
      "source": [
        "# The entire data set\n",
        "calc_gini(s_y)"
      ],
      "execution_count": 11,
      "outputs": [
        {
          "output_type": "execute_result",
          "data": {
            "text/plain": [
              "0.6655601280292637"
            ]
          },
          "metadata": {},
          "execution_count": 11
        }
      ]
    },
    {
      "cell_type": "code",
      "metadata": {
        "id": "M0fGwiMurmyt",
        "colab": {
          "base_uri": "https://localhost:8080/"
        },
        "outputId": "325110d9-a07a-4b50-8337-82b4ba211870"
      },
      "source": [
        "# Less than or equal to 200\n",
        "calc_gini(pd.DataFrame(df_train[df_train['Landsize'] <= 200]['Type']))"
      ],
      "execution_count": 12,
      "outputs": [
        {
          "output_type": "execute_result",
          "data": {
            "text/plain": [
              "0.5741211482422965"
            ]
          },
          "metadata": {},
          "execution_count": 12
        }
      ]
    },
    {
      "cell_type": "code",
      "metadata": {
        "id": "Fik-UAdErmyu",
        "colab": {
          "base_uri": "https://localhost:8080/"
        },
        "outputId": "9f61eb40-0593-4268-acee-a8a22757f617"
      },
      "source": [
        "# Between 200 and 450\n",
        "calc_gini(pd.DataFrame(df_train[(df_train['Landsize'] > 200) & (df_train['Landsize'] <= 450)]['Type']))"
      ],
      "execution_count": 13,
      "outputs": [
        {
          "output_type": "execute_result",
          "data": {
            "text/plain": [
              "0.6101021682602731"
            ]
          },
          "metadata": {},
          "execution_count": 13
        }
      ]
    },
    {
      "cell_type": "code",
      "metadata": {
        "id": "wFRETURErmyu",
        "colab": {
          "base_uri": "https://localhost:8080/"
        },
        "outputId": "bc6fa4d9-4cb4-4dc5-effa-850dd7f933b6"
      },
      "source": [
        "# greater than 450\n",
        "calc_gini(pd.DataFrame(df_train[df_train['Landsize'] > 450]['Type']))"
      ],
      "execution_count": 14,
      "outputs": [
        {
          "output_type": "execute_result",
          "data": {
            "text/plain": [
              "0.4381934171597633"
            ]
          },
          "metadata": {},
          "execution_count": 14
        }
      ]
    },
    {
      "cell_type": "markdown",
      "metadata": {
        "id": "-nM6TlZvrmyu"
      },
      "source": [
        "## Q6 Create a decision tree \n",
        "Using [scikit-learn](https://scikit-learn.org/stable/modules/tree.html#tree) create a multi class classifer for the data set using the Entropy impurity measure and a max depth of 3.\n",
        "\n",
        "Note that scikit-learn's algorithm doesn't handle categorical data, so that needs to be preprocessed using an one hot encoding.\n",
        "\n",
        "Display the tree using `export_text` from sklearn.tree, and use that information to write some descriptive analytics on the classification of houses.  For extra fun, use the export_graphviz to draw the graph (see documentation on the [scikit-learn webpage](https://scikit-learn.org/stable/modules/tree.html#classification)). "
      ]
    },
    {
      "cell_type": "code",
      "metadata": {
        "id": "IT9oxFhUrmyu"
      },
      "source": [
        "# Create Tree\n",
        "dummy = pd.get_dummies(df_X['CouncilArea'])\n",
        "df_X2= pd.concat([df_X.drop(\"CouncilArea\", 1), dummy], axis=1)\n",
        "classifier = tree.DecisionTreeClassifier(max_depth=3, criterion='entropy')\n",
        "classifier = classifier.fit(df_X2, s_y)"
      ],
      "execution_count": 15,
      "outputs": []
    },
    {
      "cell_type": "code",
      "metadata": {
        "id": "ZeXj95cSrmyv",
        "colab": {
          "base_uri": "https://localhost:8080/"
        },
        "outputId": "f167d004-8c47-4aef-b71c-ca5355655081"
      },
      "source": [
        "# Display text version of the tree\n",
        "print(tree.export_text(classifier,feature_names=list(df_X2.columns)))"
      ],
      "execution_count": 16,
      "outputs": [
        {
          "output_type": "stream",
          "name": "stdout",
          "text": [
            "|--- YearBuilt <= 1977.50\n",
            "|   |--- Rooms <= 2.50\n",
            "|   |   |--- Price <= 915000.00\n",
            "|   |   |   |--- class: u\n",
            "|   |   |--- Price >  915000.00\n",
            "|   |   |   |--- class: h\n",
            "|   |--- Rooms >  2.50\n",
            "|   |   |--- Landsize <= 429.00\n",
            "|   |   |   |--- class: h\n",
            "|   |   |--- Landsize >  429.00\n",
            "|   |   |   |--- class: h\n",
            "|--- YearBuilt >  1977.50\n",
            "|   |--- BuildingArea <= 104.31\n",
            "|   |   |--- Landsize <= 76.00\n",
            "|   |   |   |--- class: u\n",
            "|   |   |--- Landsize >  76.00\n",
            "|   |   |   |--- class: t\n",
            "|   |--- BuildingArea >  104.31\n",
            "|   |   |--- Landsize <= 391.00\n",
            "|   |   |   |--- class: t\n",
            "|   |   |--- Landsize >  391.00\n",
            "|   |   |   |--- class: h\n",
            "\n"
          ]
        }
      ]
    },
    {
      "cell_type": "code",
      "metadata": {
        "id": "XFaREA6Frmyv",
        "colab": {
          "base_uri": "https://localhost:8080/",
          "height": 618
        },
        "outputId": "dc9f253a-c713-48c0-94a7-53c13a88d134"
      },
      "source": [
        "# Display graphviz version of the tree\n",
        "graphviz.Source(tree.export_graphviz(classifier, out_file=None, feature_names=df_X2.columns, filled=True, class_names=['h','t','u']))"
      ],
      "execution_count": 17,
      "outputs": [
        {
          "output_type": "execute_result",
          "data": {
            "text/plain": [
              "<graphviz.files.Source at 0x7f9f43375e50>"
            ],
            "image/svg+xml": "<?xml version=\"1.0\" encoding=\"UTF-8\" standalone=\"no\"?>\n<!DOCTYPE svg PUBLIC \"-//W3C//DTD SVG 1.1//EN\"\n \"http://www.w3.org/Graphics/SVG/1.1/DTD/svg11.dtd\">\n<!-- Generated by graphviz version 2.40.1 (20161225.0304)\n -->\n<!-- Title: Tree Pages: 1 -->\n<svg width=\"1141pt\" height=\"433pt\"\n viewBox=\"0.00 0.00 1141.00 433.00\" xmlns=\"http://www.w3.org/2000/svg\" xmlns:xlink=\"http://www.w3.org/1999/xlink\">\n<g id=\"graph0\" class=\"graph\" transform=\"scale(1 1) rotate(0) translate(4 429)\">\n<title>Tree</title>\n<polygon fill=\"#ffffff\" stroke=\"transparent\" points=\"-4,4 -4,-429 1137,-429 1137,4 -4,4\"/>\n<!-- 0 -->\n<g id=\"node1\" class=\"node\">\n<title>0</title>\n<polygon fill=\"#ffffff\" stroke=\"#000000\" points=\"619,-425 464,-425 464,-342 619,-342 619,-425\"/>\n<text text-anchor=\"middle\" x=\"541.5\" y=\"-409.8\" font-family=\"Times,serif\" font-size=\"14.00\" fill=\"#000000\">YearBuilt &lt;= 1977.5</text>\n<text text-anchor=\"middle\" x=\"541.5\" y=\"-394.8\" font-family=\"Times,serif\" font-size=\"14.00\" fill=\"#000000\">entropy = 1.583</text>\n<text text-anchor=\"middle\" x=\"541.5\" y=\"-379.8\" font-family=\"Times,serif\" font-size=\"14.00\" fill=\"#000000\">samples = 810</text>\n<text text-anchor=\"middle\" x=\"541.5\" y=\"-364.8\" font-family=\"Times,serif\" font-size=\"14.00\" fill=\"#000000\">value = [248, 281, 281]</text>\n<text text-anchor=\"middle\" x=\"541.5\" y=\"-349.8\" font-family=\"Times,serif\" font-size=\"14.00\" fill=\"#000000\">class = t</text>\n</g>\n<!-- 1 -->\n<g id=\"node2\" class=\"node\">\n<title>1</title>\n<polygon fill=\"#fae7da\" stroke=\"#000000\" points=\"480,-306 333,-306 333,-223 480,-223 480,-306\"/>\n<text text-anchor=\"middle\" x=\"406.5\" y=\"-290.8\" font-family=\"Times,serif\" font-size=\"14.00\" fill=\"#000000\">Rooms &lt;= 2.5</text>\n<text text-anchor=\"middle\" x=\"406.5\" y=\"-275.8\" font-family=\"Times,serif\" font-size=\"14.00\" fill=\"#000000\">entropy = 1.264</text>\n<text text-anchor=\"middle\" x=\"406.5\" y=\"-260.8\" font-family=\"Times,serif\" font-size=\"14.00\" fill=\"#000000\">samples = 370</text>\n<text text-anchor=\"middle\" x=\"406.5\" y=\"-245.8\" font-family=\"Times,serif\" font-size=\"14.00\" fill=\"#000000\">value = [194, 23, 153]</text>\n<text text-anchor=\"middle\" x=\"406.5\" y=\"-230.8\" font-family=\"Times,serif\" font-size=\"14.00\" fill=\"#000000\">class = h</text>\n</g>\n<!-- 0&#45;&gt;1 -->\n<g id=\"edge1\" class=\"edge\">\n<title>0&#45;&gt;1</title>\n<path fill=\"none\" stroke=\"#000000\" d=\"M494.2836,-341.8796C483.7598,-332.6031 472.5109,-322.6874 461.6979,-313.1559\"/>\n<polygon fill=\"#000000\" stroke=\"#000000\" points=\"463.734,-310.2851 453.918,-306.2981 459.1052,-315.5362 463.734,-310.2851\"/>\n<text text-anchor=\"middle\" x=\"455.4897\" y=\"-327.5486\" font-family=\"Times,serif\" font-size=\"14.00\" fill=\"#000000\">True</text>\n</g>\n<!-- 8 -->\n<g id=\"node9\" class=\"node\">\n<title>8</title>\n<polygon fill=\"#adf4ca\" stroke=\"#000000\" points=\"782,-306 615,-306 615,-223 782,-223 782,-306\"/>\n<text text-anchor=\"middle\" x=\"698.5\" y=\"-290.8\" font-family=\"Times,serif\" font-size=\"14.00\" fill=\"#000000\">BuildingArea &lt;= 104.315</text>\n<text text-anchor=\"middle\" x=\"698.5\" y=\"-275.8\" font-family=\"Times,serif\" font-size=\"14.00\" fill=\"#000000\">entropy = 1.341</text>\n<text text-anchor=\"middle\" x=\"698.5\" y=\"-260.8\" font-family=\"Times,serif\" font-size=\"14.00\" fill=\"#000000\">samples = 440</text>\n<text text-anchor=\"middle\" x=\"698.5\" y=\"-245.8\" font-family=\"Times,serif\" font-size=\"14.00\" fill=\"#000000\">value = [54, 258, 128]</text>\n<text text-anchor=\"middle\" x=\"698.5\" y=\"-230.8\" font-family=\"Times,serif\" font-size=\"14.00\" fill=\"#000000\">class = t</text>\n</g>\n<!-- 0&#45;&gt;8 -->\n<g id=\"edge8\" class=\"edge\">\n<title>0&#45;&gt;8</title>\n<path fill=\"none\" stroke=\"#000000\" d=\"M596.411,-341.8796C609.0794,-332.2774 622.6515,-321.9903 635.6295,-312.1534\"/>\n<polygon fill=\"#000000\" stroke=\"#000000\" points=\"637.7648,-314.9268 643.62,-306.0969 633.5364,-309.3482 637.7648,-314.9268\"/>\n<text text-anchor=\"middle\" x=\"640.2102\" y=\"-327.1633\" font-family=\"Times,serif\" font-size=\"14.00\" fill=\"#000000\">False</text>\n</g>\n<!-- 2 -->\n<g id=\"node3\" class=\"node\">\n<title>2</title>\n<polygon fill=\"#a572ed\" stroke=\"#000000\" points=\"271.5,-187 131.5,-187 131.5,-104 271.5,-104 271.5,-187\"/>\n<text text-anchor=\"middle\" x=\"201.5\" y=\"-171.8\" font-family=\"Times,serif\" font-size=\"14.00\" fill=\"#000000\">Price &lt;= 915000.0</text>\n<text text-anchor=\"middle\" x=\"201.5\" y=\"-156.8\" font-family=\"Times,serif\" font-size=\"14.00\" fill=\"#000000\">entropy = 0.974</text>\n<text text-anchor=\"middle\" x=\"201.5\" y=\"-141.8\" font-family=\"Times,serif\" font-size=\"14.00\" fill=\"#000000\">samples = 182</text>\n<text text-anchor=\"middle\" x=\"201.5\" y=\"-126.8\" font-family=\"Times,serif\" font-size=\"14.00\" fill=\"#000000\">value = [33, 10, 139]</text>\n<text text-anchor=\"middle\" x=\"201.5\" y=\"-111.8\" font-family=\"Times,serif\" font-size=\"14.00\" fill=\"#000000\">class = u</text>\n</g>\n<!-- 1&#45;&gt;2 -->\n<g id=\"edge2\" class=\"edge\">\n<title>1&#45;&gt;2</title>\n<path fill=\"none\" stroke=\"#000000\" d=\"M334.8009,-222.8796C317.2382,-212.6846 298.3455,-201.7176 280.4632,-191.3372\"/>\n<polygon fill=\"#000000\" stroke=\"#000000\" points=\"282.1816,-188.2878 271.776,-186.2944 278.6674,-194.3417 282.1816,-188.2878\"/>\n</g>\n<!-- 5 -->\n<g id=\"node6\" class=\"node\">\n<title>5</title>\n<polygon fill=\"#e99558\" stroke=\"#000000\" points=\"476.5,-187 336.5,-187 336.5,-104 476.5,-104 476.5,-187\"/>\n<text text-anchor=\"middle\" x=\"406.5\" y=\"-171.8\" font-family=\"Times,serif\" font-size=\"14.00\" fill=\"#000000\">Landsize &lt;= 429.0</text>\n<text text-anchor=\"middle\" x=\"406.5\" y=\"-156.8\" font-family=\"Times,serif\" font-size=\"14.00\" fill=\"#000000\">entropy = 0.737</text>\n<text text-anchor=\"middle\" x=\"406.5\" y=\"-141.8\" font-family=\"Times,serif\" font-size=\"14.00\" fill=\"#000000\">samples = 188</text>\n<text text-anchor=\"middle\" x=\"406.5\" y=\"-126.8\" font-family=\"Times,serif\" font-size=\"14.00\" fill=\"#000000\">value = [161, 13, 14]</text>\n<text text-anchor=\"middle\" x=\"406.5\" y=\"-111.8\" font-family=\"Times,serif\" font-size=\"14.00\" fill=\"#000000\">class = h</text>\n</g>\n<!-- 1&#45;&gt;5 -->\n<g id=\"edge5\" class=\"edge\">\n<title>1&#45;&gt;5</title>\n<path fill=\"none\" stroke=\"#000000\" d=\"M406.5,-222.8796C406.5,-214.6838 406.5,-205.9891 406.5,-197.5013\"/>\n<polygon fill=\"#000000\" stroke=\"#000000\" points=\"410.0001,-197.298 406.5,-187.2981 403.0001,-197.2981 410.0001,-197.298\"/>\n</g>\n<!-- 3 -->\n<g id=\"node4\" class=\"node\">\n<title>3</title>\n<polygon fill=\"#8f4fe8\" stroke=\"#000000\" points=\"125,-68 0,-68 0,0 125,0 125,-68\"/>\n<text text-anchor=\"middle\" x=\"62.5\" y=\"-52.8\" font-family=\"Times,serif\" font-size=\"14.00\" fill=\"#000000\">entropy = 0.595</text>\n<text text-anchor=\"middle\" x=\"62.5\" y=\"-37.8\" font-family=\"Times,serif\" font-size=\"14.00\" fill=\"#000000\">samples = 150</text>\n<text text-anchor=\"middle\" x=\"62.5\" y=\"-22.8\" font-family=\"Times,serif\" font-size=\"14.00\" fill=\"#000000\">value = [9, 7, 134]</text>\n<text text-anchor=\"middle\" x=\"62.5\" y=\"-7.8\" font-family=\"Times,serif\" font-size=\"14.00\" fill=\"#000000\">class = u</text>\n</g>\n<!-- 2&#45;&gt;3 -->\n<g id=\"edge3\" class=\"edge\">\n<title>2&#45;&gt;3</title>\n<path fill=\"none\" stroke=\"#000000\" d=\"M149.7415,-103.9815C137.8258,-94.4232 125.1644,-84.2668 113.2903,-74.7419\"/>\n<polygon fill=\"#000000\" stroke=\"#000000\" points=\"115.2049,-71.7907 105.2144,-68.2637 110.8248,-77.2511 115.2049,-71.7907\"/>\n</g>\n<!-- 4 -->\n<g id=\"node5\" class=\"node\">\n<title>4</title>\n<polygon fill=\"#eda674\" stroke=\"#000000\" points=\"260,-68 143,-68 143,0 260,0 260,-68\"/>\n<text text-anchor=\"middle\" x=\"201.5\" y=\"-52.8\" font-family=\"Times,serif\" font-size=\"14.00\" fill=\"#000000\">entropy = 1.05</text>\n<text text-anchor=\"middle\" x=\"201.5\" y=\"-37.8\" font-family=\"Times,serif\" font-size=\"14.00\" fill=\"#000000\">samples = 32</text>\n<text text-anchor=\"middle\" x=\"201.5\" y=\"-22.8\" font-family=\"Times,serif\" font-size=\"14.00\" fill=\"#000000\">value = [24, 3, 5]</text>\n<text text-anchor=\"middle\" x=\"201.5\" y=\"-7.8\" font-family=\"Times,serif\" font-size=\"14.00\" fill=\"#000000\">class = h</text>\n</g>\n<!-- 2&#45;&gt;4 -->\n<g id=\"edge4\" class=\"edge\">\n<title>2&#45;&gt;4</title>\n<path fill=\"none\" stroke=\"#000000\" d=\"M201.5,-103.9815C201.5,-95.618 201.5,-86.7965 201.5,-78.3409\"/>\n<polygon fill=\"#000000\" stroke=\"#000000\" points=\"205.0001,-78.2636 201.5,-68.2637 198.0001,-78.2637 205.0001,-78.2636\"/>\n</g>\n<!-- 6 -->\n<g id=\"node7\" class=\"node\">\n<title>6</title>\n<polygon fill=\"#efb285\" stroke=\"#000000\" points=\"410.5,-68 278.5,-68 278.5,0 410.5,0 410.5,-68\"/>\n<text text-anchor=\"middle\" x=\"344.5\" y=\"-52.8\" font-family=\"Times,serif\" font-size=\"14.00\" fill=\"#000000\">entropy = 1.22</text>\n<text text-anchor=\"middle\" x=\"344.5\" y=\"-37.8\" font-family=\"Times,serif\" font-size=\"14.00\" fill=\"#000000\">samples = 69</text>\n<text text-anchor=\"middle\" x=\"344.5\" y=\"-22.8\" font-family=\"Times,serif\" font-size=\"14.00\" fill=\"#000000\">value = [47, 10, 12]</text>\n<text text-anchor=\"middle\" x=\"344.5\" y=\"-7.8\" font-family=\"Times,serif\" font-size=\"14.00\" fill=\"#000000\">class = h</text>\n</g>\n<!-- 5&#45;&gt;6 -->\n<g id=\"edge6\" class=\"edge\">\n<title>5&#45;&gt;6</title>\n<path fill=\"none\" stroke=\"#000000\" d=\"M383.4135,-103.9815C378.5585,-95.2504 373.426,-86.0202 368.5371,-77.2281\"/>\n<polygon fill=\"#000000\" stroke=\"#000000\" points=\"371.4712,-75.3025 363.5524,-68.2637 365.3533,-78.7043 371.4712,-75.3025\"/>\n</g>\n<!-- 7 -->\n<g id=\"node8\" class=\"node\">\n<title>7</title>\n<polygon fill=\"#e68642\" stroke=\"#000000\" points=\"552.5,-68 428.5,-68 428.5,0 552.5,0 552.5,-68\"/>\n<text text-anchor=\"middle\" x=\"490.5\" y=\"-52.8\" font-family=\"Times,serif\" font-size=\"14.00\" fill=\"#000000\">entropy = 0.292</text>\n<text text-anchor=\"middle\" x=\"490.5\" y=\"-37.8\" font-family=\"Times,serif\" font-size=\"14.00\" fill=\"#000000\">samples = 119</text>\n<text text-anchor=\"middle\" x=\"490.5\" y=\"-22.8\" font-family=\"Times,serif\" font-size=\"14.00\" fill=\"#000000\">value = [114, 3, 2]</text>\n<text text-anchor=\"middle\" x=\"490.5\" y=\"-7.8\" font-family=\"Times,serif\" font-size=\"14.00\" fill=\"#000000\">class = h</text>\n</g>\n<!-- 5&#45;&gt;7 -->\n<g id=\"edge7\" class=\"edge\">\n<title>5&#45;&gt;7</title>\n<path fill=\"none\" stroke=\"#000000\" d=\"M437.7785,-103.9815C444.5639,-94.9747 451.7495,-85.4367 458.5601,-76.3965\"/>\n<polygon fill=\"#000000\" stroke=\"#000000\" points=\"461.4653,-78.3568 464.687,-68.2637 455.8743,-74.1448 461.4653,-78.3568\"/>\n</g>\n<!-- 9 -->\n<g id=\"node10\" class=\"node\">\n<title>9</title>\n<polygon fill=\"#c8a8f4\" stroke=\"#000000\" points=\"761,-187 636,-187 636,-104 761,-104 761,-187\"/>\n<text text-anchor=\"middle\" x=\"698.5\" y=\"-171.8\" font-family=\"Times,serif\" font-size=\"14.00\" fill=\"#000000\">Landsize &lt;= 76.0</text>\n<text text-anchor=\"middle\" x=\"698.5\" y=\"-156.8\" font-family=\"Times,serif\" font-size=\"14.00\" fill=\"#000000\">entropy = 1.118</text>\n<text text-anchor=\"middle\" x=\"698.5\" y=\"-141.8\" font-family=\"Times,serif\" font-size=\"14.00\" fill=\"#000000\">samples = 145</text>\n<text text-anchor=\"middle\" x=\"698.5\" y=\"-126.8\" font-family=\"Times,serif\" font-size=\"14.00\" fill=\"#000000\">value = [5, 49, 91]</text>\n<text text-anchor=\"middle\" x=\"698.5\" y=\"-111.8\" font-family=\"Times,serif\" font-size=\"14.00\" fill=\"#000000\">class = u</text>\n</g>\n<!-- 8&#45;&gt;9 -->\n<g id=\"edge9\" class=\"edge\">\n<title>8&#45;&gt;9</title>\n<path fill=\"none\" stroke=\"#000000\" d=\"M698.5,-222.8796C698.5,-214.6838 698.5,-205.9891 698.5,-197.5013\"/>\n<polygon fill=\"#000000\" stroke=\"#000000\" points=\"702.0001,-197.298 698.5,-187.2981 695.0001,-197.2981 702.0001,-197.298\"/>\n</g>\n<!-- 12 -->\n<g id=\"node13\" class=\"node\">\n<title>12</title>\n<polygon fill=\"#7eeead\" stroke=\"#000000\" points=\"989.5,-187 849.5,-187 849.5,-104 989.5,-104 989.5,-187\"/>\n<text text-anchor=\"middle\" x=\"919.5\" y=\"-171.8\" font-family=\"Times,serif\" font-size=\"14.00\" fill=\"#000000\">Landsize &lt;= 391.0</text>\n<text text-anchor=\"middle\" x=\"919.5\" y=\"-156.8\" font-family=\"Times,serif\" font-size=\"14.00\" fill=\"#000000\">entropy = 1.158</text>\n<text text-anchor=\"middle\" x=\"919.5\" y=\"-141.8\" font-family=\"Times,serif\" font-size=\"14.00\" fill=\"#000000\">samples = 295</text>\n<text text-anchor=\"middle\" x=\"919.5\" y=\"-126.8\" font-family=\"Times,serif\" font-size=\"14.00\" fill=\"#000000\">value = [49, 209, 37]</text>\n<text text-anchor=\"middle\" x=\"919.5\" y=\"-111.8\" font-family=\"Times,serif\" font-size=\"14.00\" fill=\"#000000\">class = t</text>\n</g>\n<!-- 8&#45;&gt;12 -->\n<g id=\"edge12\" class=\"edge\">\n<title>8&#45;&gt;12</title>\n<path fill=\"none\" stroke=\"#000000\" d=\"M775.7951,-222.8796C796.7065,-211.6196 819.3669,-199.4178 840.3771,-188.1046\"/>\n<polygon fill=\"#000000\" stroke=\"#000000\" points=\"842.1252,-191.1386 849.2706,-183.3159 838.8065,-184.9752 842.1252,-191.1386\"/>\n</g>\n<!-- 10 -->\n<g id=\"node11\" class=\"node\">\n<title>10</title>\n<polygon fill=\"#9253e8\" stroke=\"#000000\" points=\"688,-68 571,-68 571,0 688,0 688,-68\"/>\n<text text-anchor=\"middle\" x=\"629.5\" y=\"-52.8\" font-family=\"Times,serif\" font-size=\"14.00\" fill=\"#000000\">entropy = 0.523</text>\n<text text-anchor=\"middle\" x=\"629.5\" y=\"-37.8\" font-family=\"Times,serif\" font-size=\"14.00\" fill=\"#000000\">samples = 68</text>\n<text text-anchor=\"middle\" x=\"629.5\" y=\"-22.8\" font-family=\"Times,serif\" font-size=\"14.00\" fill=\"#000000\">value = [0, 8, 60]</text>\n<text text-anchor=\"middle\" x=\"629.5\" y=\"-7.8\" font-family=\"Times,serif\" font-size=\"14.00\" fill=\"#000000\">class = u</text>\n</g>\n<!-- 9&#45;&gt;10 -->\n<g id=\"edge10\" class=\"edge\">\n<title>9&#45;&gt;10</title>\n<path fill=\"none\" stroke=\"#000000\" d=\"M672.8069,-103.9815C667.3469,-95.1585 661.5716,-85.8258 656.0793,-76.9506\"/>\n<polygon fill=\"#000000\" stroke=\"#000000\" points=\"658.942,-74.9254 650.7035,-68.2637 652.9896,-78.609 658.942,-74.9254\"/>\n</g>\n<!-- 11 -->\n<g id=\"node12\" class=\"node\">\n<title>11</title>\n<polygon fill=\"#d4f9e4\" stroke=\"#000000\" points=\"831,-68 706,-68 706,0 831,0 831,-68\"/>\n<text text-anchor=\"middle\" x=\"768.5\" y=\"-52.8\" font-family=\"Times,serif\" font-size=\"14.00\" fill=\"#000000\">entropy = 1.269</text>\n<text text-anchor=\"middle\" x=\"768.5\" y=\"-37.8\" font-family=\"Times,serif\" font-size=\"14.00\" fill=\"#000000\">samples = 77</text>\n<text text-anchor=\"middle\" x=\"768.5\" y=\"-22.8\" font-family=\"Times,serif\" font-size=\"14.00\" fill=\"#000000\">value = [5, 41, 31]</text>\n<text text-anchor=\"middle\" x=\"768.5\" y=\"-7.8\" font-family=\"Times,serif\" font-size=\"14.00\" fill=\"#000000\">class = t</text>\n</g>\n<!-- 9&#45;&gt;11 -->\n<g id=\"edge11\" class=\"edge\">\n<title>9&#45;&gt;11</title>\n<path fill=\"none\" stroke=\"#000000\" d=\"M724.5654,-103.9815C730.1045,-95.1585 735.9636,-85.8258 741.5355,-76.9506\"/>\n<polygon fill=\"#000000\" stroke=\"#000000\" points=\"744.6363,-78.594 746.9892,-68.2637 738.7078,-74.872 744.6363,-78.594\"/>\n</g>\n<!-- 13 -->\n<g id=\"node14\" class=\"node\">\n<title>13</title>\n<polygon fill=\"#69eb9f\" stroke=\"#000000\" points=\"989.5,-68 849.5,-68 849.5,0 989.5,0 989.5,-68\"/>\n<text text-anchor=\"middle\" x=\"919.5\" y=\"-52.8\" font-family=\"Times,serif\" font-size=\"14.00\" fill=\"#000000\">entropy = 0.933</text>\n<text text-anchor=\"middle\" x=\"919.5\" y=\"-37.8\" font-family=\"Times,serif\" font-size=\"14.00\" fill=\"#000000\">samples = 245</text>\n<text text-anchor=\"middle\" x=\"919.5\" y=\"-22.8\" font-family=\"Times,serif\" font-size=\"14.00\" fill=\"#000000\">value = [18, 194, 33]</text>\n<text text-anchor=\"middle\" x=\"919.5\" y=\"-7.8\" font-family=\"Times,serif\" font-size=\"14.00\" fill=\"#000000\">class = t</text>\n</g>\n<!-- 12&#45;&gt;13 -->\n<g id=\"edge13\" class=\"edge\">\n<title>12&#45;&gt;13</title>\n<path fill=\"none\" stroke=\"#000000\" d=\"M919.5,-103.9815C919.5,-95.618 919.5,-86.7965 919.5,-78.3409\"/>\n<polygon fill=\"#000000\" stroke=\"#000000\" points=\"923.0001,-78.2636 919.5,-68.2637 916.0001,-78.2637 923.0001,-78.2636\"/>\n</g>\n<!-- 14 -->\n<g id=\"node15\" class=\"node\">\n<title>14</title>\n<polygon fill=\"#f3c5a4\" stroke=\"#000000\" points=\"1133,-68 1008,-68 1008,0 1133,0 1133,-68\"/>\n<text text-anchor=\"middle\" x=\"1070.5\" y=\"-52.8\" font-family=\"Times,serif\" font-size=\"14.00\" fill=\"#000000\">entropy = 1.24</text>\n<text text-anchor=\"middle\" x=\"1070.5\" y=\"-37.8\" font-family=\"Times,serif\" font-size=\"14.00\" fill=\"#000000\">samples = 50</text>\n<text text-anchor=\"middle\" x=\"1070.5\" y=\"-22.8\" font-family=\"Times,serif\" font-size=\"14.00\" fill=\"#000000\">value = [31, 15, 4]</text>\n<text text-anchor=\"middle\" x=\"1070.5\" y=\"-7.8\" font-family=\"Times,serif\" font-size=\"14.00\" fill=\"#000000\">class = h</text>\n</g>\n<!-- 12&#45;&gt;14 -->\n<g id=\"edge14\" class=\"edge\">\n<title>12&#45;&gt;14</title>\n<path fill=\"none\" stroke=\"#000000\" d=\"M975.7268,-103.9815C988.7957,-94.3313 1002.6903,-84.0714 1015.6968,-74.4673\"/>\n<polygon fill=\"#000000\" stroke=\"#000000\" points=\"1018.1326,-77.0195 1024.0981,-68.2637 1013.9745,-71.3883 1018.1326,-77.0195\"/>\n</g>\n</g>\n</svg>\n"
          },
          "metadata": {},
          "execution_count": 17
        }
      ]
    },
    {
      "cell_type": "markdown",
      "metadata": {
        "id": "UtkL3I7Irmyv"
      },
      "source": [
        "This decision tree meets the expectation. It first uses the year the properties were built to classify the data, and we can see that many townhomes were built after 1977. Then it uses the number of rooms, building area, landsize, and price to classify different types of properties. Houses tend to have larger areas and are more expensive, whereas duplexes are smaller. Townhomes are in the middle. "
      ]
    },
    {
      "cell_type": "markdown",
      "metadata": {
        "id": "jw32op9grmyv"
      },
      "source": [
        "## Q7 Calculate the Accuracy and Display Learning Curve\n",
        "Load in the test data from melb_tree_test.csv.\n",
        "\n",
        "Use the scikit-learn library to create many decision trees, each one with a different configuration (aka Hyperparameters).  You will create 28 different trees by:\n",
        "\n",
        "    - Varying the max depth from 2 to 15 with the Gini Index as the impurity measure\n",
        "    - Varying the max depth from 2 to 15 with the Entropy as the impurity measure\n",
        "\n",
        "Implementation tip: you can create an array of numbers from 2 to 15 by using the numpy function [arange](https://numpy.org/doc/stable/reference/generated/numpy.arange.html).\n",
        "\n",
        "For each of the 28 decistion trees, calculate the error rate by using the data in the: \n",
        "  - Training set, and\n",
        "  - Test set.\n",
        "\n",
        "Display the results graphicaly, and offer an analysis of the trend (or if no trend present, offer a hypotheisis of why).  The max depth should be on the x-axis, and the error rate should be on the y-axis (see figure 3.23 in your DM textbook for a similar style of graph that uses leaf nodes instead of depth for the x-axis). Your plot will include 4 series of data\n",
        "   - Test error (entropy)\n",
        "   - Test error (gini index)\n",
        "   - Training error (entropy)\n",
        "   - Training error (gini index)"
      ]
    },
    {
      "cell_type": "code",
      "metadata": {
        "id": "6Y7YProxrmyw"
      },
      "source": [
        "# Load in the test data\n",
        "test_y = pd.DataFrame(df_test['Type'])\n",
        "df_test_X = df_test.drop('Type', 1)\n",
        "dummy = pd.get_dummies(df_test_X['CouncilArea'])\n",
        "df_test_X = pd.concat([df_test_X.drop('CouncilArea', 1), dummy], axis=1)"
      ],
      "execution_count": 18,
      "outputs": []
    },
    {
      "cell_type": "code",
      "metadata": {
        "id": "8IMjwWmfo7qi"
      },
      "source": [
        "test_y = test_y.to_numpy().transpose()\n",
        "test_y = test_y.reshape(test_y.shape[1],)\n",
        "s_y = s_y.to_numpy().transpose()\n",
        "s_y = s_y.reshape(s_y.shape[1],)"
      ],
      "execution_count": 19,
      "outputs": []
    },
    {
      "cell_type": "code",
      "metadata": {
        "id": "Mn7Ocq2zrmyw"
      },
      "source": [
        "# Build the trees using the training data\n",
        "tree_gini = []\n",
        "tree_entropy = []\n",
        "predict_gini_train = []\n",
        "predict_gini_test = []\n",
        "predict_entropy_train = []\n",
        "predict_entropy_test = []\n",
        "\n",
        "for i in range(2, 16):\n",
        "  classifier = tree.DecisionTreeClassifier(max_depth=i, criterion='entropy')\n",
        "  classifier = classifier.fit(df_X2, s_y)\n",
        "  tree_entropy.append(classifier)\n",
        "  predict_entropy_train.append(classifier.predict(df_X2))\n",
        "  predict_entropy_test.append(classifier.predict(df_test_X))\n",
        "\n",
        "  classifier = tree.DecisionTreeClassifier(max_depth=i, criterion='gini')\n",
        "  classifier = classifier.fit(df_X2, s_y)\n",
        "  tree_gini.append(classifier)\n",
        "  predict_gini_train.append(classifier.predict(df_X2))\n",
        "  predict_gini_test.append(classifier.predict(df_test_X))\n",
        "\n",
        "error_gini_train = []\n",
        "error_gini_test = []\n",
        "error_entropy_train = []\n",
        "error_entropy_test = []\n",
        "\n",
        "for i in range(len(tree_entropy)):\n",
        "  nf = len(s_y)\n",
        "  ne = len(test_y)\n",
        "  f = 0\n",
        "  e = 0\n",
        "  for j in range(nf):\n",
        "    if predict_entropy_train[i][j] != s_y[j]:\n",
        "      f += 1\n",
        "  for j in range(ne):\n",
        "    if predict_entropy_test[i][j] != test_y[j]:\n",
        "      e += 1\n",
        "  error_entropy_train.append(f/nf)\n",
        "  error_entropy_test.append(e/ne)\n",
        "\n",
        "  f = 0\n",
        "  e = 0\n",
        "  for j in range(nf):\n",
        "    if predict_gini_train[i][j] != s_y[j]:\n",
        "      f += 1\n",
        "  for j in range(ne):\n",
        "    if predict_gini_test[i][j] != test_y[j]:\n",
        "      e += 1\n",
        "  error_gini_train.append(f/nf)\n",
        "  error_gini_test.append(e/ne)"
      ],
      "execution_count": 20,
      "outputs": []
    },
    {
      "cell_type": "code",
      "metadata": {
        "id": "E-z2Clf2rmyw",
        "colab": {
          "base_uri": "https://localhost:8080/",
          "height": 312
        },
        "outputId": "b144b7ce-bbf0-42a4-e3d1-4028a24fe529"
      },
      "source": [
        "# Plot the 4 learning curves\n",
        "plt.plot(range(2, 16), error_gini_train)\n",
        "plt.plot(range(2, 16), error_gini_test)\n",
        "plt.plot(range(2, 16), error_entropy_train)\n",
        "plt.plot(range(2, 16), error_entropy_test)\n",
        "plt.xlabel('Tree Depth')\n",
        "plt.ylabel('Error Rate')\n",
        "plt.title('Learning Curves')\n",
        "plt.legend(['Gini Train Error', 'Gini Test Error', 'Entropy Train Error', 'Entropy Test Error'])"
      ],
      "execution_count": 24,
      "outputs": [
        {
          "output_type": "execute_result",
          "data": {
            "text/plain": [
              "<matplotlib.legend.Legend at 0x7f9f3dfe2f50>"
            ]
          },
          "metadata": {},
          "execution_count": 24
        },
        {
          "output_type": "display_data",
          "data": {
            "image/png": "[encoded data removed]",
            "text/plain": [
              "<Figure size 432x288 with 1 Axes>"
            ]
          },
          "metadata": {
            "needs_background": "light"
          }
        }
      ]
    },
    {
      "cell_type": "markdown",
      "metadata": {
        "id": "sTT774qwrmyw"
      },
      "source": [
        "When the depth of the tree is greater than 3, the testing error for gini index increases while the training error decreases. When the depth of the tree is greater than 4, the testing error for entropy increases while the training error decreases. This shows whether the model is under-fitting or over-fitting. As the depth of the tree increases, the model becomes over-fitting, which is not what we want. According to this graph, the ideal tree depth is 4 (or 3). "
      ]
    }
  ]
}