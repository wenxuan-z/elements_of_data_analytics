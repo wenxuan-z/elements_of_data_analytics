{
  "nbformat": 4,
  "nbformat_minor": 0,
  "metadata": {
    "kernelspec": {
      "display_name": "Python 3",
      "language": "python",
      "name": "python3"
    },
    "language_info": {
      "codemirror_mode": {
        "name": "ipython",
        "version": 3
      },
      "file_extension": ".py",
      "mimetype": "text/x-python",
      "name": "python",
      "nbconvert_exporter": "python",
      "pygments_lexer": "ipython3",
      "version": "3.8.3"
    },
    "colab": {
      "name": "329e_HW10.ipynb",
      "provenance": [],
      "collapsed_sections": []
    }
  },
  "cells": [
    {
      "cell_type": "markdown",
      "metadata": {
        "id": "moZvA4B4LEIz"
      },
      "source": [
        "## C S 329E HW 10\n",
        "\n",
        "# Clustering with DBSCAN\n",
        "\n",
        "## Wenxuan Zhou Group 9\n",
        "\n",
        "As we discussed in lecture DBSCAN creates clusters based on the density of the points in the vicinity of the data.  Using small example data sets, we will implement both algorithms and visualize the results.\n",
        "\n",
        "Even though the example data is small and 2 dimensional, write your helper functions to not assume a 2-D data set.  Your plotting code can reference the `x` and `y` column names from the sample data directly. \n",
        "\n",
        "Note that I have added a one or two lines of code to the questions to test your implementations. "
      ]
    },
    {
      "cell_type": "code",
      "metadata": {
        "id": "LWkOPn8wLEI1"
      },
      "source": [
        "# Do not import anything else\n",
        "import pandas as pd\n",
        "import matplotlib.pyplot as plt\n",
        "import numpy as np\n",
        "%matplotlib inline\n",
        "from sklearn.cluster import KMeans\n",
        "from sklearn.cluster import DBSCAN # only on last problem"
      ],
      "execution_count": null,
      "outputs": []
    },
    {
      "cell_type": "markdown",
      "metadata": {
        "id": "w2XUdbVZLEI2"
      },
      "source": [
        "# DBSCAN"
      ]
    },
    {
      "cell_type": "markdown",
      "metadata": {
        "id": "iPUSLpcULEI2"
      },
      "source": [
        "## Q1 Load the Density Data and try K-means\n",
        "\n",
        "Load in the data provided `data_dbscan.csv`, cluster it with k-means algorithm with $k=2$ and visualize the results with a scatter plot, where the color indicates cluster membership. Label your axes, and give the plot a title. Use the [scikit-learn implementation of K-means](https://scikit-learn.org/stable/modules/generated/sklearn.cluster.KMeans.html)."
      ]
    },
    {
      "cell_type": "code",
      "metadata": {
        "id": "OL0cu27uLEI2",
        "colab": {
          "base_uri": "https://localhost:8080/",
          "height": 295
        },
        "outputId": "479c0b85-82c7-4860-8217-b105f2b15c4b"
      },
      "source": [
        "df_dbscan = pd.read_csv('https://gist.githubusercontent.com/yanyanzheng96/c4bf88d73e03305cc0e1abd0a8a8e185/raw/c15f0f59d06ccbe9e708eddaf361cc33c19b1ec6/data_dbscan.csv')\n",
        "\n",
        "# Call k_means with k = 2\n",
        "kmeans = KMeans(n_clusters=2)\n",
        "\n",
        "centroids = kmeans.fit_predict(df_dbscan)\n",
        "df_dbscan['cluster'] = centroids\n",
        "\n",
        "n = len(np.unique(centroids))\n",
        "\n",
        "for i in range(n):\n",
        "  df_sub = df_dbscan.loc[df_dbscan['cluster'] == i]\n",
        "  plt.scatter(df_sub.x, df_sub.y, s = 10, alpha = 0.6)\n",
        "\n",
        "plt.xlabel('x')\n",
        "plt.ylabel('y')\n",
        "plt.title('K-Means Scatter Plot with Color Representing Clusters')\n",
        "plt.show()\n",
        "del df_sub"
      ],
      "execution_count": null,
      "outputs": [
        {
          "output_type": "display_data",
          "data": {
            "image/png": "[encoded data removed]",
            "text/plain": [
              "<Figure size 432x288 with 1 Axes>"
            ]
          },
          "metadata": {
            "needs_background": "light"
          }
        }
      ]
    },
    {
      "cell_type": "markdown",
      "metadata": {
        "id": "kx9reS4ELEI3"
      },
      "source": [
        "## Q2.2 Write function to Implement Range Query\n",
        "\n",
        "Using the [pseudo-code](https://en.wikipedia.org/wiki/DBSCAN#Algorithm) on wikipedia, implement RangeQuery.\n",
        "\n",
        "```\n",
        "RangeQuery(DB, distFunc, Q, eps) {\n",
        "    Neighbors N := empty list\n",
        "    for each point P in database DB {                      /* Scan all points in the database */\n",
        "        if distFunc(Q, P) ≤ eps then {                     /* Compute distance and check epsilon */\n",
        "            N := N ∪ {P}                                   /* Add to result */\n",
        "        }\n",
        "    }\n",
        "    return N\n",
        "}\n",
        "```\n",
        "\n",
        "The \"DB\" parameter is a data frame, `df_data` containing all of the points in our data set, the \"distFunc\" is set as Euclidean distance thus should not be passed in, the point \"Q\", is represented by the index of the data frame, `q_index`, where `df_data.iloc[q_index]` is the actual point, and `eps` is a floating point value that indicates the radius from the point \"Q\" to search for neighbors.  The function will return the slice of `df_data` of all points within `eps` distance of \"Q\" (including \"Q\").  The indices on the slice should be preserved (do not reset_index).  "
      ]
    },
    {
      "cell_type": "code",
      "metadata": {
        "id": "cnRaeg5_LEI3"
      },
      "source": [
        "def dist(x1, y1, x2, y2):\n",
        "  return np.sqrt((x2 - x1)**2 + (y2 - y1)**2)\n",
        "\n",
        "def range_query(df_data, q_index, eps):\n",
        "    df_data['range'] = 0\n",
        "    \n",
        "    for i in range(len(df_data)):\n",
        "        distance = dist(df_data.iloc[q_index].x, df_data.iloc[q_index].y, df_data.iloc[i].x, df_data.iloc[i].y)\n",
        "        if (distance <= eps):\n",
        "            df_data.at[i, 'range'] = 1\n",
        "    \n",
        "    df_sub = df_data.loc[df_data['range'] == 1]\n",
        "    return df_sub"
      ],
      "execution_count": null,
      "outputs": []
    },
    {
      "cell_type": "code",
      "metadata": {
        "id": "pUMftPNELEI3",
        "colab": {
          "base_uri": "https://localhost:8080/",
          "height": 295
        },
        "outputId": "13610277-8fb0-4d4f-cbc9-bd7a41f33b44"
      },
      "source": [
        "# Test it out\n",
        "df_n = range_query( df_dbscan, 0, 0.1 )\n",
        "plt.plot( df_dbscan['x'], df_dbscan['y'], '.', alpha = 0.5 )\n",
        "plt.plot( df_n['x'], df_n['y'], 'r*')\n",
        "plt.xlabel('x')\n",
        "plt.ylabel('y')\n",
        "plt.title('Testing Range Query')\n",
        "plt.show()"
      ],
      "execution_count": null,
      "outputs": [
        {
          "output_type": "display_data",
          "data": {
            "image/png": "[encoded data removed]",
            "text/plain": [
              "<Figure size 432x288 with 1 Axes>"
            ]
          },
          "metadata": {
            "needs_background": "light"
          }
        }
      ]
    },
    {
      "cell_type": "markdown",
      "metadata": {
        "id": "UQJcIwWJLEI4"
      },
      "source": [
        "## Q2.3 Write a function to implement DBSCAN\n",
        "\n",
        "Using the [pseudo-code](https://en.wikipedia.org/wiki/DBSCAN#Algorithm) on wikipedia, implement DBSCAN. This algorithm uses set notation, I found a handy summary on-line [here](http://www.math.cmu.edu/~bkell/21110-2010s/sets.html) if you need a refresher. \n",
        "\n",
        "```\n",
        "DBSCAN(DB, distFunc, eps, minPts) {\n",
        "    C := 0                                                  /* Cluster counter */\n",
        "    for each point P in database DB {\n",
        "        if label(P) ≠ undefined then continue               /* Previously processed in inner loop */\n",
        "        Neighbors N := RangeQuery(DB, distFunc, P, eps)     /* Find neighbors */\n",
        "        if |N| < minPts then {                              /* Density check */\n",
        "            label(P) := Noise                               /* Label as Noise */\n",
        "            continue\n",
        "        }\n",
        "        C := C + 1                                          /* next cluster label */\n",
        "        label(P) := C                                       /* Label initial point */\n",
        "        SeedSet S := N \\ {P}                                /* Neighbors to expand */\n",
        "        for each point Q in S {                             /* Process every seed point Q */\n",
        "            if label(Q) = Noise then label(Q) := C          /* Change Noise to border point */\n",
        "            if label(Q) ≠ undefined then continue           /* Previously processed (e.g., border point) */\n",
        "            label(Q) := C                                   /* Label neighbor */\n",
        "            Neighbors N := RangeQuery(DB, distFunc, Q, eps) /* Find neighbors */\n",
        "            if |N| ≥ minPts then {                          /* Density check (if Q is a core point) */\n",
        "                S := S ∪ N                                  /* Add new neighbors to seed set */\n",
        "            }\n",
        "        }\n",
        "    }\n",
        "}\n",
        "```\n",
        "\n",
        "The function should accept as parameters \"DB\", a data frame of points to be clustered, `df_data`, no distance function (assuming Euclidean distance), a floating point `eps` that defines the radius, and an integer `minPts`.  The function will return a series of cluster assignments of the same length as `df_data`. If the data is classified as noise, the cluster assignment is $0$, and all of the clusters will have a label of $1-k$, were $k$ is derived in the function and represents the total number of clusters found. \n",
        "\n",
        "Don't forget that [iterrows](https://pandas.pydata.org/pandas-docs/stable/reference/api/pandas.DataFrame.iterrows.html) is a lovely way to loop through a data frame. But if you modify the dataframe within the loop, it doesn't add more iterations to the loop.  For example, if you start with a dataframe of length $n$ and add $3$ rows, then the `iterrows` will stop after $n$ rows. For the inside loop, you'll need to use a native python list to dynamically grow the `SeedSet S`.  You can use the `extend` function to merge 2 lists together. For example:\n",
        "\n",
        "```\n",
        "x = [1,2,3]\n",
        "y = [4,5,6]\n",
        "x.extend(y) # sets x to the list [1, 2, 3, 4, 5, 6]\n",
        "```\n",
        "\n",
        "If you haven't used the [continue](https://docs.python.org/3/tutorial/controlflow.html) statement before, it can be useful in these situations, check out the link. \n",
        "\n",
        "Call `dbscan` with the `df_dbscan` data frame, `eps` set to 0.23, and `min_pts` set to 6 and save the results to `s_cluster_assignments` "
      ]
    },
    {
      "cell_type": "code",
      "metadata": {
        "id": "yGgW2e-QLEI4"
      },
      "source": [
        "def dbscan(df_data, eps, min_pts):\n",
        "    NOISE_LABEL = -1\n",
        "    UNDEFINED = 0\n",
        "    n_cluster = 0\n",
        "    df_data['n'] = 0\n",
        "    \n",
        "    for i in range(len(df_data)):\n",
        "        if (df_data.iloc[i]['n'] != 0):\n",
        "            continue\n",
        "            \n",
        "        neighbors = range_query(df_data, i, eps)\n",
        "        \n",
        "        if (len(neighbors) < min_pts):\n",
        "            df_data.at[i, 'n'] = -1\n",
        "            continue\n",
        "            \n",
        "        n_cluster += 1\n",
        "        df_data.at[i, 'n'] = n_cluster\n",
        "        indices = neighbors.index.tolist()\n",
        "        idx = 0\n",
        "        \n",
        "        while (idx < len(indices)):\n",
        "            if (df_data.iloc[indices[idx]]['n'] == -1):\n",
        "                df_data.at[indices[idx], 'n'] = n_cluster\n",
        "            elif (df_data.iloc[indices[idx]]['n'] != 0):\n",
        "                idx += 1\n",
        "                continue\n",
        "            else:\n",
        "                df_data.at[indices[idx], 'n'] = n_cluster\n",
        "                new_neighbors = range_query(df_data, indices[idx], eps)\n",
        "                if (len(new_neighbors) >= min_pts):\n",
        "                    new_indices = new_neighbors.index.tolist()\n",
        "                    indices.extend(new_indices)\n",
        "            idx += 1\n",
        "        \n",
        "    df_data['n'] = df_data['n'].replace([-1], 0)\n",
        "            \n",
        "    return df_data['n']"
      ],
      "execution_count": null,
      "outputs": []
    },
    {
      "cell_type": "code",
      "metadata": {
        "id": "k84t0MZ8LEI4",
        "colab": {
          "base_uri": "https://localhost:8080/"
        },
        "outputId": "8d0e193d-b0dd-40aa-ed48-78175295309f"
      },
      "source": [
        "# Test it out\n",
        "s_cluster_assignment = dbscan( df_dbscan, 0.23, 6)\n",
        "s_cluster_assignment.value_counts()"
      ],
      "execution_count": null,
      "outputs": [
        {
          "output_type": "execute_result",
          "data": {
            "text/plain": [
              "1    49\n",
              "2    48\n",
              "0     3\n",
              "Name: n, dtype: int64"
            ]
          },
          "metadata": {},
          "execution_count": 6
        }
      ]
    },
    {
      "cell_type": "markdown",
      "metadata": {
        "id": "s8YjaV7wLEI4"
      },
      "source": [
        "## Q2.4 Plot the Results \n",
        "\n",
        "Plot the points in the `df_dbscan` data frame using a 2-D scatter plot, with a different color for each cluster.  Use the cluster assignments from the previous problem (`s_cluster_assignments`). Label your axes, and give the plot a title."
      ]
    },
    {
      "cell_type": "code",
      "metadata": {
        "id": "ugqkYwF0LEI5",
        "colab": {
          "base_uri": "https://localhost:8080/",
          "height": 312
        },
        "outputId": "4b301fb2-98f3-4096-e7fc-3c4687999d07"
      },
      "source": [
        "# Plot each cluster\n",
        "\n",
        "for i in range(s_cluster_assignment.nunique()):\n",
        "  plt.scatter(df_dbscan[df_dbscan['n'] == i].x, df_dbscan[df_dbscan['n'] == i].y, s=6, alpha=0.5)\n",
        "\n",
        "plt.title('DBSCAN Scatter Plot with Color Representing Clusters')\n",
        "plt.xlabel('x')\n",
        "plt.ylabel('y')"
      ],
      "execution_count": null,
      "outputs": [
        {
          "output_type": "execute_result",
          "data": {
            "text/plain": [
              "Text(0, 0.5, 'y')"
            ]
          },
          "metadata": {},
          "execution_count": 7
        },
        {
          "output_type": "display_data",
          "data": {
            "image/png": "[encoded data removed]",
            "text/plain": [
              "<Figure size 432x288 with 1 Axes>"
            ]
          },
          "metadata": {
            "needs_background": "light"
          }
        }
      ]
    },
    {
      "cell_type": "markdown",
      "metadata": {
        "id": "Pd03UENnLEI5"
      },
      "source": [
        "## Q2.5 Compare your results to the scikit-learn library\n",
        "\n",
        "Import DBSCAN from scikit-learn and compare the cluster labels from your implementation to the cluster labels generated from [scikit-learn's DBSCAN](https://scikit-learn.org/stable/modules/generated/sklearn.cluster.DBSCAN.html). Add some commentary about how you think the results compare. Use the same data and values for eps and minPts."
      ]
    },
    {
      "cell_type": "code",
      "metadata": {
        "id": "sXHawFiqUlMQ"
      },
      "source": [
        "df_dbscan = pd.read_csv('https://gist.githubusercontent.com/yanyanzheng96/c4bf88d73e03305cc0e1abd0a8a8e185/raw/c15f0f59d06ccbe9e708eddaf361cc33c19b1ec6/data_dbscan.csv')"
      ],
      "execution_count": null,
      "outputs": []
    },
    {
      "cell_type": "code",
      "metadata": {
        "id": "EFHBgaz7LEI5",
        "colab": {
          "base_uri": "https://localhost:8080/"
        },
        "outputId": "51e9d90a-4afd-4cb6-8041-61c4fae0a412"
      },
      "source": [
        "# check your implementation vs scikit-learn\n",
        "from sklearn.cluster import DBSCAN\n",
        "clusters = DBSCAN(eps=0.23, min_samples=6).fit(df_dbscan)\n",
        "\n",
        "diff = False\n",
        "s_cluster_assignment = s_cluster_assignment - 1\n",
        "\n",
        "for i in range(len(s_cluster_assignment)):\n",
        "  if s_cluster_assignment.iloc[i] != clusters.labels_[i]:\n",
        "    print('Find difference!')\n",
        "    diff = True\n",
        "\n",
        "if diff == False:\n",
        "  print('There is no difference!')"
      ],
      "execution_count": null,
      "outputs": [
        {
          "output_type": "stream",
          "name": "stdout",
          "text": [
            "There is no difference!\n"
          ]
        }
      ]
    },
    {
      "cell_type": "markdown",
      "metadata": {
        "id": "VRBsqxlVLEI5"
      },
      "source": [
        "There's no difference in clustering between scikit-learn DBSCAN and my implementation. "
      ]
    }
  ]
}