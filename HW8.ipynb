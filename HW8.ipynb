{
  "nbformat": 4,
  "nbformat_minor": 0,
  "metadata": {
    "kernelspec": {
      "display_name": "Python 3",
      "language": "python",
      "name": "python3"
    },
    "language_info": {
      "codemirror_mode": {
        "name": "ipython",
        "version": 3
      },
      "file_extension": ".py",
      "mimetype": "text/x-python",
      "name": "python",
      "nbconvert_exporter": "python",
      "pygments_lexer": "ipython3",
      "version": "3.8.3"
    },
    "colab": {
      "name": "329e_HW8.ipynb",
      "provenance": [],
      "collapsed_sections": []
    }
  },
  "cells": [
    {
      "cell_type": "markdown",
      "metadata": {
        "id": "Pc0-tdC10va6"
      },
      "source": [
        "## C S 329E HW7\n",
        "\n",
        "# Ensemble Methods and Skewed Data\n",
        "\n",
        "## Wenxuan Zhou Group 20\n",
        "\n",
        "For this week's homework we are going explore two ensemble methods:\n",
        "\n",
        "  - AdaBoost, and\n",
        "  - Random Forests\n",
        "  \n",
        "Along with applying different KPIs (key performance indicators) that are more appropriate to highly skewed data sets. \n",
        "\n",
        "The dataset contains transactions made by credit cards in September 2013 by european cardholders.\n",
        "This dataset presents transactions that occurred in two days, where we have 237 frauds out of 142,167 transactions. The dataset is highly unbalanced, the positive class (frauds) account for 0.17% of all transactions.\n",
        "\n",
        "It contains only numerical input variables which are the result of a [PCA transformation](https://en.wikipedia.org/wiki/Principal_component_analysis). Unfortunately, due to confidentiality issues, they cannot provide the original features and more background information about the data. Features V1, V2, … V28 are the principal components obtained with PCA, the only features which have not been transformed with PCA are 'Time' and 'Amount'. Feature 'Time' contains the seconds elapsed between each transaction and the first transaction in the dataset. The feature 'Amount' is the transaction Amount in Euros. Feature 'Class' is the response variable and it takes value 1 in case of fraud and 0 otherwise.\n",
        "\n",
        "At the end of this homework, I expect you to understand how to train and use ensemble classifiers, how to characterize model performance with ROC curves, and be familiar with the difference between accuracy, true positive rate, and positive predictive value. "
      ]
    },
    {
      "cell_type": "code",
      "metadata": {
        "id": "AIIG_Qv30va_"
      },
      "source": [
        "# These are the libraries you will use for this assignment, you may not import anything else\n",
        "import pandas as pd\n",
        "import numpy as np\n",
        "import matplotlib.pyplot as plt\n",
        "from sklearn.ensemble import AdaBoostClassifier\n",
        "from sklearn.ensemble import RandomForestClassifier\n",
        "from sklearn.model_selection import StratifiedKFold\n",
        "from sklearn.metrics import plot_roc_curve\n",
        "\n",
        "# This is the credit card data provided, we'll use sklearn methods to do cross validation\n",
        "# to estimate error\n",
        "df_cc = pd.read_csv('https://www.cs.utexas.edu/~chaney/cc.csv')"
      ],
      "execution_count": 1,
      "outputs": []
    },
    {
      "cell_type": "markdown",
      "metadata": {
        "id": "sV8Lw-Xc0vbA"
      },
      "source": [
        "## Q1 Parition the data for cross validation\n",
        "\n",
        "Load the data, and split the data set into $X$ (the feature dataframe, `df_X`) and $y$ (the target series `s_y`). Define our partitions.  \n",
        "\n",
        "We know this is a _super_ skewed data set, so we worry about our target class being underrepresented in a random k-fold selection. With this in mind, we use a [stratifed k-fold](https://scikit-learn.org/stable/modules/generated/sklearn.model_selection.StratifiedKFold.html), since it will preserve our class balance in our experiements. Use $k=3$, . Instantiate an instance of the `StratifiedKFold` class, and use the generator `split` to populate the following dictonaries:\n",
        "   - `d_train_df_X` : where the key is the fold number, and the value is the attribute training dataframe at that fold\n",
        "   - `d_test_df_X`  : where the key is the fold number, and the value is the attribute test dataframe at that fold\n",
        "   - `d_train_s_y`  : where the key is the fold number, and the value is the target training series at that fold\n",
        "   - `d_train_s_y`  : where the key is the fold number, and the value is the target test series at that fold"
      ]
    },
    {
      "cell_type": "code",
      "metadata": {
        "id": "3sHfNAci0vbA"
      },
      "source": [
        "df_X = df_cc.drop(columns=['Class'])\n",
        "s_y = df_cc['Class']"
      ],
      "execution_count": 2,
      "outputs": []
    },
    {
      "cell_type": "code",
      "metadata": {
        "id": "p8K4LLES0vbB"
      },
      "source": [
        "skf = StratifiedKFold(n_splits=3,shuffle=True,random_state=23)"
      ],
      "execution_count": 3,
      "outputs": []
    },
    {
      "cell_type": "code",
      "metadata": {
        "id": "xQYF1qLc0vbB"
      },
      "source": [
        "d_train_df_X = dict()\n",
        "d_test_df_X = dict()\n",
        "d_train_s_y = dict()\n",
        "d_test_s_y = dict()\n",
        "\n",
        "folds = skf.split(df_X, s_y)\n",
        "i = 0\n",
        "\n",
        "for train_index, test_index in folds:\n",
        "  d_train_df_X[i] = df_X.iloc[train_index]\n",
        "  d_test_df_X[i] = df_X.iloc[test_index]\n",
        "  d_train_s_y[i] = s_y.iloc[train_index]\n",
        "  d_test_s_y[i] = s_y.iloc[test_index]\n",
        "  i += 1"
      ],
      "execution_count": 4,
      "outputs": []
    },
    {
      "cell_type": "code",
      "metadata": {
        "scrolled": true,
        "id": "WKyVrDi30vbC",
        "colab": {
          "base_uri": "https://localhost:8080/"
        },
        "outputId": "b12422dd-7963-428f-c7c2-fa2c3ad106c3"
      },
      "source": [
        "# Look at the test data and verify that the target training is equally distributed as possible\n",
        "for key in d_test_s_y.keys():\n",
        "    print(d_test_s_y[key].value_counts())"
      ],
      "execution_count": 5,
      "outputs": [
        {
          "output_type": "stream",
          "name": "stdout",
          "text": [
            "0    47389\n",
            "1       79\n",
            "Name: Class, dtype: int64\n",
            "0    47389\n",
            "1       79\n",
            "Name: Class, dtype: int64\n",
            "0    47389\n",
            "1       79\n",
            "Name: Class, dtype: int64\n"
          ]
        }
      ]
    },
    {
      "cell_type": "markdown",
      "metadata": {
        "id": "RgKTCPZn0vbC"
      },
      "source": [
        "## Section 1 - AdaBoost"
      ]
    },
    {
      "cell_type": "markdown",
      "metadata": {
        "id": "aBiszvo40vbD"
      },
      "source": [
        "# Q2 Test the Performance of AdaBoost\n",
        "\n",
        "When we talked about AdaBoost in class, we used a collection of \"Decision Stumps\". In this assignment, we will use the implementation of [AdaBoost in Scikit-learn](https://scikit-learn.org/stable/modules/generated/sklearn.ensemble.AdaBoostClassifier.html).  As you browse the documentation, you will notice that the default base esimator in this implentation is a `DecisionTreeClassifier(max_depth=1)` (our friend the decision stump). \n",
        "\n",
        "After you fit an AdaBoost model, you can call the method `predict` to get a class prediction, or you can call `predict_proba` to get the probability of being in the class `0` or the class `1`. These probabilities are used when creating ROC curves. \n",
        "\n",
        "Loop over the $k$ folds using the dictionaries from the first problem, and for each fold calculate the accuracy, TPR, the PPV, and the FPR (feel free to create helper functions to calcuate these metrics - do not use a library function to compute these metrics).  Plot the ROC curve for each fold. You may use the [plot roc curve](https://scikit-learn.org/stable/modules/generated/sklearn.metrics.plot_roc_curve.html) from Scikit-learn.  There is a great example in the documentation [on plotting ROC curves in cross validation](https://scikit-learn.org/stable/auto_examples/model_selection/plot_roc_crossval.html) that is helpful.  \n",
        "\n",
        "When creating your AdaBoost classifier, please use the following parameters: \n",
        "`AdaBoostClassifier(n_estimators=25, random_state=23)`\n",
        "\n",
        "Save the predictions from the 3rd fold into a variable called `y_hat_ab` for use in a future problem.\n"
      ]
    },
    {
      "cell_type": "code",
      "metadata": {
        "id": "1CH_Ec9G0vbD"
      },
      "source": [
        "k = 3\n",
        "acc_ab = np.zeros(k)\n",
        "tpr_ab = np.zeros(k)\n",
        "ppv_ab = np.zeros(k)\n",
        "fpr_ab = np.zeros(k)"
      ],
      "execution_count": 6,
      "outputs": []
    },
    {
      "cell_type": "code",
      "metadata": {
        "id": "3pE-HrIv0vbE",
        "colab": {
          "base_uri": "https://localhost:8080/",
          "height": 295
        },
        "outputId": "5de6a308-0dc9-4ff2-9609-de37e0c1b78c"
      },
      "source": [
        "abc = AdaBoostClassifier(n_estimators=25, random_state=23)\n",
        "fig, ax = plt.subplots()\n",
        "\n",
        "for key in d_test_s_y.keys():\n",
        "  acc = 0\n",
        "  tp = 0\n",
        "  fn = 0\n",
        "  fp = 0\n",
        "  tn = 0\n",
        "\n",
        "  train_X = d_train_df_X[key]\n",
        "  test_X = d_test_df_X[key]\n",
        "  train_s_y = d_train_s_y[key]\n",
        "  test_s_y = d_test_s_y[key]\n",
        "  abc.fit(train_X, train_s_y)\n",
        "  predict_y = abc.predict(test_X)\n",
        "\n",
        "  if key == 2:\n",
        "    y_hat_ab = predict_y\n",
        "\n",
        "  for i in range(len(predict_y)):\n",
        "    if predict_y[i] == 1:\n",
        "      if test_s_y.iloc[i] == 1:\n",
        "        tp += 1\n",
        "        acc += 1\n",
        "      else:\n",
        "        fp += 1\n",
        "    else:\n",
        "      if test_s_y.iloc[i] == 0:\n",
        "        tn += 1\n",
        "        acc += 1\n",
        "      else:\n",
        "        fn += 1\n",
        "\n",
        "  acc_ab[key] = acc / (tp + fp + tn + fn)\n",
        "  tpr_ab[key] = tp / (tp + fn)\n",
        "  ppv_ab[key] = tp / (tp + fp)\n",
        "  fpr_ab[key] = fp / (fp + fn)\n",
        "\n",
        "  viz = plot_roc_curve(abc, test_X, test_s_y, name='ROC fold {}'.format(key+1), alpha=0.3, lw=1, ax=ax)\n",
        "\n",
        "ax.plot([0,1], [0,1], linestyle='--', lw=2, color='r', alpha=0.8)\n",
        "ax.set(title='ROC for AdaBoost on Credit Card Fraud')\n",
        "plt.show()"
      ],
      "execution_count": 7,
      "outputs": [
        {
          "output_type": "display_data",
          "data": {
            "image/png": "[encoded data removed]",
            "text/plain": [
              "<Figure size 432x288 with 1 Axes>"
            ]
          },
          "metadata": {
            "needs_background": "light"
          }
        }
      ]
    },
    {
      "cell_type": "code",
      "metadata": {
        "id": "TbQKtc_K0vbE",
        "colab": {
          "base_uri": "https://localhost:8080/"
        },
        "outputId": "6cc0a25d-a98f-4967-c76c-c0a87d90b14e"
      },
      "source": [
        "print('The min, mean, and max TPR are: {:.2f}, {:.2f}, and {:.2f}'.format(tpr_ab.min(), tpr_ab.mean(), tpr_ab.max()))\n",
        "print('The min, mean, and max PPV are: {:.2f}, {:.2f}, and {:.2f}'.format(ppv_ab.min(), ppv_ab.mean(), ppv_ab.max()))\n",
        "print('The min, mean, and max ACC are: {:.2f}, {:.2f}, and {:.2f}'.format(acc_ab.min(), acc_ab.mean(), acc_ab.max()))"
      ],
      "execution_count": 8,
      "outputs": [
        {
          "output_type": "stream",
          "name": "stdout",
          "text": [
            "The min, mean, and max TPR are: 0.62, 0.65, and 0.71\n",
            "The min, mean, and max PPV are: 0.75, 0.79, and 0.82\n",
            "The min, mean, and max ACC are: 1.00, 1.00, and 1.00\n"
          ]
        }
      ]
    },
    {
      "cell_type": "markdown",
      "metadata": {
        "id": "6B3UIBCC0vbE"
      },
      "source": [
        "## Q3 Test the Performance of Random Forests\n",
        "\n",
        "Now, let's try another ensemble method: Random Forests, again using the [Scikit-learn implementation](https://scikit-learn.org/stable/modules/generated/sklearn.ensemble.RandomForestClassifier.html). \n",
        "\n",
        "Following our book, we will build complete trees, with no pruning.  That means every leaf in the tree will be completelely pure, and if you exam an individual Decision Tree it would be overtrained to our training set.  While building the decision trees, at every internal node, we select $p$ attributes at random, and then find the best split that minimizes impurtity.  The value, $p$, is a hyperparamter of the Random Forest and corresponds to the `max_features` parameter in the Random Forest Class. \n",
        "\n",
        "After you fit an RandomForest model, you can call the method `predict` to get a class prediction, or you can call `predict_proba` to get the probability of being in the class `0` or the class `1`. These probabilities are used when creating ROC curves. \n",
        "\n",
        "Loop over the $k$ folds using the dictionaries from the first problem, and for each fold calculate the accuracy, TPR, the PPV, and the FPR (feel free to reuse the functions that you already wrote to calculate these values - do not use a library function to compute these metrics).  Plot the ROC curve for each fold. You may use the [plot roc curve](https://scikit-learn.org/stable/modules/generated/sklearn.metrics.plot_roc_curve.html) from Scikit-learn. There is a great example in the documentation [on plotting ROC curves in cross validation](https://scikit-learn.org/stable/auto_examples/model_selection/plot_roc_crossval.html) that is helpful.  \n",
        "\n",
        "When creating your Random Forest classifier, please use the following parameters: \n",
        "`RandomForestClassifier(criterion=\"entropy\", max_features=\"sqrt\", random_state=23)`\n",
        "\n",
        "Save the predictions from the 3rd fold into a variable called `y_hat_rf` for use in a future problem."
      ]
    },
    {
      "cell_type": "code",
      "metadata": {
        "id": "knZax5_10vbE"
      },
      "source": [
        "k = 3\n",
        "acc_rf = np.zeros(k)\n",
        "tpr_rf = np.zeros(k)\n",
        "ppv_rf = np.zeros(k)\n",
        "fpr_rf = np.zeros(k)"
      ],
      "execution_count": 9,
      "outputs": []
    },
    {
      "cell_type": "code",
      "metadata": {
        "id": "SL-uXnC10vbF",
        "colab": {
          "base_uri": "https://localhost:8080/",
          "height": 295
        },
        "outputId": "bdcb3909-76ed-46bc-eef3-f0809e36d87e"
      },
      "source": [
        "rfc = RandomForestClassifier(criterion='entropy', max_features='sqrt', random_state=23)\n",
        "fig, ax = plt.subplots()\n",
        "\n",
        "for key in d_test_s_y.keys():\n",
        "  acc = 0\n",
        "  tp = 0\n",
        "  fn = 0\n",
        "  fp = 0\n",
        "  tn = 0\n",
        "\n",
        "  train_X = d_train_df_X[key]\n",
        "  test_X = d_test_df_X[key]\n",
        "  train_s_y = d_train_s_y[key]\n",
        "  test_s_y = d_test_s_y[key]\n",
        "  rfc.fit(train_X, train_s_y)\n",
        "  predict_y = rfc.predict(test_X)\n",
        "\n",
        "  if key == 2:\n",
        "    y_hat_rf = predict_y\n",
        "\n",
        "  for i in range(len(predict_y)):\n",
        "    if predict_y[i] == 1:\n",
        "      if test_s_y.iloc[i] == 1:\n",
        "        tp += 1\n",
        "        acc += 1\n",
        "      else:\n",
        "        fp += 1\n",
        "    else:\n",
        "      if test_s_y.iloc[i] == 0:\n",
        "        tn += 1\n",
        "        acc += 1\n",
        "      else:\n",
        "        fn += 1\n",
        "\n",
        "  acc_rf[key] = acc / (tp + fp + tn + fn)\n",
        "  tpr_rf[key] = tp / (tp + fn)\n",
        "  ppv_rf[key] = tp / (tp + fp)\n",
        "  fpr_rf[key] = fp / (fp + fn)\n",
        "\n",
        "  viz = plot_roc_curve(rfc, test_X, test_s_y, name='ROC fold {}'.format(key+1), alpha=0.3, lw=1, ax=ax)\n",
        "\n",
        "ax.plot([0,1], [0,1], linestyle='--', lw=2, color='r', alpha=0.8)\n",
        "ax.set(title='ROC for Random Forest on Credit Card Fraud')\n",
        "plt.show()"
      ],
      "execution_count": 10,
      "outputs": [
        {
          "output_type": "display_data",
          "data": {
            "image/png": "[encoded data removed]",
            "text/plain": [
              "<Figure size 432x288 with 1 Axes>"
            ]
          },
          "metadata": {
            "needs_background": "light"
          }
        }
      ]
    },
    {
      "cell_type": "code",
      "metadata": {
        "id": "d5Drp2A20vbF",
        "colab": {
          "base_uri": "https://localhost:8080/"
        },
        "outputId": "1cdbf782-9685-4281-a974-5b993b269548"
      },
      "source": [
        "print('The min, mean, and max TPR are: {:.2f}, {:.2f}, and {:.2f}'.format(tpr_rf.min(), tpr_rf.mean(), tpr_rf.max()))\n",
        "print('The min, mean, and max PPV are: {:.2f}, {:.2f}, and {:.2f}'.format(ppv_rf.min(), ppv_rf.mean(), ppv_rf.max()))\n",
        "print('The min, mean, and max ACC are: {:.2f}, {:.2f}, and {:.2f}'.format(acc_rf.min(), acc_rf.mean(), acc_rf.max()))"
      ],
      "execution_count": 11,
      "outputs": [
        {
          "output_type": "stream",
          "name": "stdout",
          "text": [
            "The min, mean, and max TPR are: 0.75, 0.78, and 0.80\n",
            "The min, mean, and max PPV are: 0.92, 0.93, and 0.95\n",
            "The min, mean, and max ACC are: 1.00, 1.00, and 1.00\n"
          ]
        }
      ]
    },
    {
      "cell_type": "markdown",
      "metadata": {
        "id": "1XU70_Mf0vbF"
      },
      "source": [
        "# Q4 Calculate the Cost of Fraud \n",
        "\n",
        "In the above problems, we saved the predictions of the 3rd fold into the variables `y_hat_ab` and `y_hat_rf` for the AdaBoost and RandomForest models respectively. \n",
        "\n",
        "Now, Mr. Bank Man wants you to tell him how much money he is going to save if he deploys either of these fraud algorithms to the real-time payment processing system.  Assume that there is not a currently deployed fraud detection algorithm.  \n",
        "\n",
        "For every fraudulent transaction that is not predicted as fraudulent the bank looses twice the value of the transaction.  So, if a fradulent charge for €10 is undectected, it costs the bank €20.  Also, if a charge is predicted as fradulent, but wasn't, it costs the bank a flat fee of €3 in customer service support to communicate with the customer, and mark the possible fraud as a normal transaction. \n",
        "\n",
        "Using the 3rd fold test sample, calculate how much money Mr Bank Man will save by deploying each algorithm, and make a recommendation of which algorithm to deploy to production.  To calculate savings to the bank, you must first calculate the cost of the status quo, which is having no algorithm deployed. "
      ]
    },
    {
      "cell_type": "code",
      "metadata": {
        "id": "i5hYCvdK0vbF",
        "colab": {
          "base_uri": "https://localhost:8080/"
        },
        "outputId": "16f4efbe-b26a-4d26-b9b8-92e08ad5e1a0"
      },
      "source": [
        "df_new = d_test_df_X[2].join(d_test_s_y[2])\n",
        "df_fraud = df_new[df_new['Class'] == 1]\n",
        "current_cost = df_fraud['Amount'].sum() * 2\n",
        "print('The current cost to the bank is €{:.2f}'.format(current_cost))"
      ],
      "execution_count": 12,
      "outputs": [
        {
          "output_type": "stream",
          "name": "stdout",
          "text": [
            "The current cost to the bank is €22484.74\n"
          ]
        }
      ]
    },
    {
      "cell_type": "code",
      "metadata": {
        "id": "E3YmQNwjfXP2"
      },
      "source": [
        "def cost_calculation(row):\n",
        "  if row['Class'] == 1 and row['Prediction'] == 0:\n",
        "    val = row['Amount'] * 2\n",
        "  elif row['Class'] == 0 and row['Prediction'] == 1:\n",
        "    val = 3\n",
        "  else:\n",
        "    val = 0\n",
        "  return val"
      ],
      "execution_count": 13,
      "outputs": []
    },
    {
      "cell_type": "code",
      "metadata": {
        "id": "DCgHcVW-0vbG"
      },
      "source": [
        "# AdaBoost\n",
        "y_hat_ab = pd.DataFrame(y_hat_ab, columns=['Prediction'])\n",
        "df_new = df_new.reset_index().drop(columns='index')\n",
        "df_ab = df_new.join(y_hat_ab)\n",
        "df_ab['cost'] = df_ab.apply(cost_calculation, axis=1)\n",
        "cost_ab = df_ab['cost'].sum()"
      ],
      "execution_count": 14,
      "outputs": []
    },
    {
      "cell_type": "code",
      "metadata": {
        "id": "kOOHg-6She_X"
      },
      "source": [
        "# Random Forest\n",
        "y_hat_rf = pd.DataFrame(y_hat_rf, columns=['Prediction'])\n",
        "df_rf = df_new.join(y_hat_rf)\n",
        "df_rf['cost'] = df_rf.apply(cost_calculation, axis=1)\n",
        "cost_rf = df_rf['cost'].sum()"
      ],
      "execution_count": 15,
      "outputs": []
    },
    {
      "cell_type": "code",
      "metadata": {
        "colab": {
          "base_uri": "https://localhost:8080/"
        },
        "id": "0ADbvHM_h-pr",
        "outputId": "bfc86622-d87c-4d6c-9610-04f5982249c2"
      },
      "source": [
        "print('Mr Bank man will save €{:.2f} if we deploy the AdaBoost algorithm!'.format(current_cost - cost_ab))\n",
        "print('Mr Bank man will save €{:.2f} if we deploy the Random Forest algorithm!'.format(current_cost - cost_rf))"
      ],
      "execution_count": 16,
      "outputs": [
        {
          "output_type": "stream",
          "name": "stdout",
          "text": [
            "Mr Bank man will save €13946.42 if we deploy the AdaBoost algorithm!\n",
            "Mr Bank man will save €18121.36 if we deploy the Random Forest algorithm!\n"
          ]
        }
      ]
    },
    {
      "cell_type": "markdown",
      "metadata": {
        "id": "WB0SRUJajKMb"
      },
      "source": [
        "The Random Forest algorithm should be deployed to production since it could help Mr Bank Man save more money. "
      ]
    }
  ]
}